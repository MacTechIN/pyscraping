{
 "cells": [
  {
   "cell_type": "code",
   "execution_count": 56,
   "id": "69fe4cd1-b855-4fcd-8798-9b563c2d21ed",
   "metadata": {
    "tags": []
   },
   "outputs": [],
   "source": [
    "import pandas as pd\n",
    "import numpy as np"
   ]
  },
  {
   "cell_type": "code",
   "execution_count": 3,
   "id": "62aa0f9c-41c5-4506-ab34-c0f972d8db52",
   "metadata": {
    "tags": []
   },
   "outputs": [],
   "source": [
    "s1 = pd.Series([10,20,30,40,50])"
   ]
  },
  {
   "cell_type": "code",
   "execution_count": 4,
   "id": "c3e1be4d-6261-44d9-8c1a-276d03590857",
   "metadata": {
    "tags": []
   },
   "outputs": [
    {
     "data": {
      "text/plain": [
       "0    10\n",
       "1    20\n",
       "2    30\n",
       "3    40\n",
       "4    50\n",
       "dtype: int64"
      ]
     },
     "execution_count": 4,
     "metadata": {},
     "output_type": "execute_result"
    }
   ],
   "source": [
    "s1"
   ]
  },
  {
   "cell_type": "code",
   "execution_count": 6,
   "id": "b869151f-be2b-4e43-8925-9f9f704bccb0",
   "metadata": {
    "tags": []
   },
   "outputs": [],
   "source": [
    "np1 = np.array(s1)"
   ]
  },
  {
   "cell_type": "code",
   "execution_count": 7,
   "id": "96036463-777b-4ed4-a0a8-0e4e4bfd0a3c",
   "metadata": {
    "tags": []
   },
   "outputs": [
    {
     "data": {
      "text/plain": [
       "array([10, 20, 30, 40, 50])"
      ]
     },
     "execution_count": 7,
     "metadata": {},
     "output_type": "execute_result"
    }
   ],
   "source": [
    "np1"
   ]
  },
  {
   "cell_type": "code",
   "execution_count": 15,
   "id": "a06b9fd4-4443-4e1c-ba1e-f9ea63f4d213",
   "metadata": {
    "tags": []
   },
   "outputs": [
    {
     "name": "stdout",
     "output_type": "stream",
     "text": [
      "[[1, 2, 3], [4, 5, 6], [7, 8, 9]]\n"
     ]
    }
   ],
   "source": [
    "data = [[1,2,3],[4,5,6],[7,8,9]]\n",
    "print(data)"
   ]
  },
  {
   "cell_type": "code",
   "execution_count": 13,
   "id": "02a0b7c6-7928-4d22-b3a2-de7f16b5eff2",
   "metadata": {
    "tags": []
   },
   "outputs": [],
   "source": [
    "np1 = np.array(data)"
   ]
  },
  {
   "cell_type": "code",
   "execution_count": 14,
   "id": "04aa66c7-c7e4-4c0d-9e3b-6338273987af",
   "metadata": {
    "tags": []
   },
   "outputs": [
    {
     "name": "stdout",
     "output_type": "stream",
     "text": [
      "[[1 2 3]\n",
      " [4 5 6]\n",
      " [7 8 9]]\n"
     ]
    }
   ],
   "source": [
    "print(np1)"
   ]
  },
  {
   "cell_type": "code",
   "execution_count": 17,
   "id": "39905251-e93b-4681-bce6-9a250bbc3e33",
   "metadata": {
    "tags": []
   },
   "outputs": [
    {
     "data": {
      "text/plain": [
       "array([1, 2, 3, 4, 5, 6, 7, 8, 9])"
      ]
     },
     "execution_count": 17,
     "metadata": {},
     "output_type": "execute_result"
    }
   ],
   "source": [
    "np1[np1<10]"
   ]
  },
  {
   "cell_type": "code",
   "execution_count": 18,
   "id": "8d7eb24b-f502-441d-a203-301f263f4c67",
   "metadata": {
    "tags": []
   },
   "outputs": [],
   "source": [
    "df = pd.DataFrame(np1)"
   ]
  },
  {
   "cell_type": "code",
   "execution_count": 20,
   "id": "1f38b9f8-5a83-4d56-b78b-7a27562630ff",
   "metadata": {
    "tags": []
   },
   "outputs": [],
   "source": [
    "df2 = pd.DataFrame(data)"
   ]
  },
  {
   "cell_type": "code",
   "execution_count": 21,
   "id": "96679f60-f181-45ea-927e-eaa77c9d87c3",
   "metadata": {
    "tags": []
   },
   "outputs": [
    {
     "name": "stdout",
     "output_type": "stream",
     "text": [
      "   0  1  2\n",
      "0  1  2  3\n",
      "1  4  5  6\n",
      "2  7  8  9\n",
      "   0  1  2\n",
      "0  1  2  3\n",
      "1  4  5  6\n",
      "2  7  8  9\n"
     ]
    }
   ],
   "source": [
    "print(df)\n",
    "print(df2)"
   ]
  },
  {
   "cell_type": "code",
   "execution_count": 23,
   "id": "12431937-1ee5-4ddb-9193-719005e4b0a3",
   "metadata": {
    "tags": []
   },
   "outputs": [],
   "source": [
    "data = np.array([[1,2,3],[4,5,6],[7,8,9],[10,11,12]])"
   ]
  },
  {
   "cell_type": "code",
   "execution_count": 50,
   "id": "440dcd80-18ef-4e66-be4e-adf1b69946f9",
   "metadata": {
    "tags": []
   },
   "outputs": [
    {
     "data": {
      "text/plain": [
       "DatetimeIndex(['2023-01-11', '2023-01-12', '2023-01-13', '2023-01-14'], dtype='datetime64[ns]', freq='D')"
      ]
     },
     "execution_count": 50,
     "metadata": {},
     "output_type": "execute_result"
    }
   ],
   "source": [
    "index_data = pd.date_range('2023-01-11', periods=4)\n",
    "index_data"
   ]
  },
  {
   "cell_type": "code",
   "execution_count": 47,
   "id": "2fc05cf4-caa5-4376-b37f-d7bb8c163c7a",
   "metadata": {
    "tags": []
   },
   "outputs": [],
   "source": [
    "columns_data = ['A','B','C']"
   ]
  },
  {
   "cell_type": "code",
   "execution_count": 53,
   "id": "3579c4ac-b945-4c6b-a381-996977b3d9f9",
   "metadata": {
    "tags": []
   },
   "outputs": [],
   "source": [
    "df = pd.DataFrame(data, index_data, columns_data)"
   ]
  },
  {
   "cell_type": "code",
   "execution_count": 54,
   "id": "3c9c59f5-f2f4-4c31-803d-0507631f6ac1",
   "metadata": {
    "tags": []
   },
   "outputs": [
    {
     "data": {
      "text/html": [
       "<div>\n",
       "<style scoped>\n",
       "    .dataframe tbody tr th:only-of-type {\n",
       "        vertical-align: middle;\n",
       "    }\n",
       "\n",
       "    .dataframe tbody tr th {\n",
       "        vertical-align: top;\n",
       "    }\n",
       "\n",
       "    .dataframe thead th {\n",
       "        text-align: right;\n",
       "    }\n",
       "</style>\n",
       "<table border=\"1\" class=\"dataframe\">\n",
       "  <thead>\n",
       "    <tr style=\"text-align: right;\">\n",
       "      <th></th>\n",
       "      <th>A</th>\n",
       "      <th>B</th>\n",
       "      <th>C</th>\n",
       "    </tr>\n",
       "  </thead>\n",
       "  <tbody>\n",
       "    <tr>\n",
       "      <th>2023-01-11</th>\n",
       "      <td>1</td>\n",
       "      <td>2</td>\n",
       "      <td>3</td>\n",
       "    </tr>\n",
       "    <tr>\n",
       "      <th>2023-01-12</th>\n",
       "      <td>4</td>\n",
       "      <td>5</td>\n",
       "      <td>6</td>\n",
       "    </tr>\n",
       "    <tr>\n",
       "      <th>2023-01-13</th>\n",
       "      <td>7</td>\n",
       "      <td>8</td>\n",
       "      <td>9</td>\n",
       "    </tr>\n",
       "    <tr>\n",
       "      <th>2023-01-14</th>\n",
       "      <td>10</td>\n",
       "      <td>11</td>\n",
       "      <td>12</td>\n",
       "    </tr>\n",
       "  </tbody>\n",
       "</table>\n",
       "</div>"
      ],
      "text/plain": [
       "             A   B   C\n",
       "2023-01-11   1   2   3\n",
       "2023-01-12   4   5   6\n",
       "2023-01-13   7   8   9\n",
       "2023-01-14  10  11  12"
      ]
     },
     "execution_count": 54,
     "metadata": {},
     "output_type": "execute_result"
    }
   ],
   "source": [
    "df"
   ]
  },
  {
   "cell_type": "code",
   "execution_count": 59,
   "id": "c02aa2b7-376f-481e-a607-49feb942c7cf",
   "metadata": {
    "tags": []
   },
   "outputs": [],
   "source": [
    "dict_data = {'연도': [2021,2021,2022,2022],\n",
    "             '지사': ['한국','미국','한국','미국'],\n",
    "             '고객수': [200, np.nan, 250,450]}   "
   ]
  },
  {
   "cell_type": "code",
   "execution_count": 60,
   "id": "8e0436af-bd13-42f5-a98b-42ac9aafe33e",
   "metadata": {
    "tags": []
   },
   "outputs": [],
   "source": [
    "df = pd.DataFrame(dict_data)"
   ]
  },
  {
   "cell_type": "code",
   "execution_count": 61,
   "id": "23278338-f48c-4024-8d1a-df4443e45bd6",
   "metadata": {
    "tags": []
   },
   "outputs": [
    {
     "data": {
      "text/html": [
       "<div>\n",
       "<style scoped>\n",
       "    .dataframe tbody tr th:only-of-type {\n",
       "        vertical-align: middle;\n",
       "    }\n",
       "\n",
       "    .dataframe tbody tr th {\n",
       "        vertical-align: top;\n",
       "    }\n",
       "\n",
       "    .dataframe thead th {\n",
       "        text-align: right;\n",
       "    }\n",
       "</style>\n",
       "<table border=\"1\" class=\"dataframe\">\n",
       "  <thead>\n",
       "    <tr style=\"text-align: right;\">\n",
       "      <th></th>\n",
       "      <th>연도</th>\n",
       "      <th>지사</th>\n",
       "      <th>고객수</th>\n",
       "    </tr>\n",
       "  </thead>\n",
       "  <tbody>\n",
       "    <tr>\n",
       "      <th>0</th>\n",
       "      <td>2021</td>\n",
       "      <td>한국</td>\n",
       "      <td>200.0</td>\n",
       "    </tr>\n",
       "    <tr>\n",
       "      <th>1</th>\n",
       "      <td>2021</td>\n",
       "      <td>미국</td>\n",
       "      <td>NaN</td>\n",
       "    </tr>\n",
       "    <tr>\n",
       "      <th>2</th>\n",
       "      <td>2022</td>\n",
       "      <td>한국</td>\n",
       "      <td>250.0</td>\n",
       "    </tr>\n",
       "    <tr>\n",
       "      <th>3</th>\n",
       "      <td>2022</td>\n",
       "      <td>미국</td>\n",
       "      <td>450.0</td>\n",
       "    </tr>\n",
       "  </tbody>\n",
       "</table>\n",
       "</div>"
      ],
      "text/plain": [
       "     연도  지사    고객수\n",
       "0  2021  한국  200.0\n",
       "1  2021  미국    NaN\n",
       "2  2022  한국  250.0\n",
       "3  2022  미국  450.0"
      ]
     },
     "execution_count": 61,
     "metadata": {},
     "output_type": "execute_result"
    }
   ],
   "source": [
    "df"
   ]
  },
  {
   "cell_type": "code",
   "execution_count": 62,
   "id": "ad71fc1e-95fd-4877-8e6b-0057fae70389",
   "metadata": {
    "tags": []
   },
   "outputs": [
    {
     "data": {
      "text/plain": [
       "RangeIndex(start=0, stop=4, step=1)"
      ]
     },
     "execution_count": 62,
     "metadata": {},
     "output_type": "execute_result"
    }
   ],
   "source": [
    "df.index"
   ]
  },
  {
   "cell_type": "code",
   "execution_count": 63,
   "id": "c340da8d-6c36-4f2e-9e9b-827365124c8d",
   "metadata": {
    "tags": []
   },
   "outputs": [
    {
     "data": {
      "text/plain": [
       "Index(['연도', '지사', '고객수'], dtype='object')"
      ]
     },
     "execution_count": 63,
     "metadata": {},
     "output_type": "execute_result"
    }
   ],
   "source": [
    "df.columns"
   ]
  },
  {
   "cell_type": "code",
   "execution_count": 67,
   "id": "ab8478a0-5089-4f68-9e1d-a894f982a0f6",
   "metadata": {
    "tags": []
   },
   "outputs": [],
   "source": [
    "val = df.values"
   ]
  },
  {
   "cell_type": "code",
   "execution_count": 68,
   "id": "cac711d9-7299-4b2a-b478-5cb6a9a9d960",
   "metadata": {
    "tags": []
   },
   "outputs": [
    {
     "data": {
      "text/plain": [
       "numpy.ndarray"
      ]
     },
     "execution_count": 68,
     "metadata": {},
     "output_type": "execute_result"
    }
   ],
   "source": [
    "type(val)"
   ]
  },
  {
   "cell_type": "code",
   "execution_count": 81,
   "id": "8d75c09a-06e6-4640-b9f5-9c916bc8b072",
   "metadata": {
    "tags": []
   },
   "outputs": [],
   "source": [
    "data = val[[0,3]]"
   ]
  },
  {
   "cell_type": "code",
   "execution_count": 82,
   "id": "cb756aef-194b-487d-a55b-5ad86eb75793",
   "metadata": {
    "tags": []
   },
   "outputs": [
    {
     "name": "stdout",
     "output_type": "stream",
     "text": [
      "[[2021 '한국' 200.0]\n",
      " [2022 '미국' 450.0]]\n"
     ]
    }
   ],
   "source": [
    "print(data)"
   ]
  },
  {
   "cell_type": "code",
   "execution_count": 84,
   "id": "9f099f2c-f139-4005-acff-6e89070fd571",
   "metadata": {
    "tags": []
   },
   "outputs": [],
   "source": [
    "ps_df = pd.read_csv('A_product_sales.csv')\n",
    "                "
   ]
  },
  {
   "cell_type": "code",
   "execution_count": 85,
   "id": "c722b17c-f732-4586-8153-1fb955341b97",
   "metadata": {
    "tags": []
   },
   "outputs": [
    {
     "data": {
      "text/html": [
       "<div>\n",
       "<style scoped>\n",
       "    .dataframe tbody tr th:only-of-type {\n",
       "        vertical-align: middle;\n",
       "    }\n",
       "\n",
       "    .dataframe tbody tr th {\n",
       "        vertical-align: top;\n",
       "    }\n",
       "\n",
       "    .dataframe thead th {\n",
       "        text-align: right;\n",
       "    }\n",
       "</style>\n",
       "<table border=\"1\" class=\"dataframe\">\n",
       "  <thead>\n",
       "    <tr style=\"text-align: right;\">\n",
       "      <th></th>\n",
       "      <th>연도</th>\n",
       "      <th>1분기</th>\n",
       "      <th>2분기</th>\n",
       "      <th>3분기</th>\n",
       "      <th>4분기</th>\n",
       "    </tr>\n",
       "  </thead>\n",
       "  <tbody>\n",
       "    <tr>\n",
       "      <th>0</th>\n",
       "      <td>2016</td>\n",
       "      <td>2412</td>\n",
       "      <td>4032</td>\n",
       "      <td>5183</td>\n",
       "      <td>1139</td>\n",
       "    </tr>\n",
       "    <tr>\n",
       "      <th>1</th>\n",
       "      <td>2017</td>\n",
       "      <td>2725</td>\n",
       "      <td>4986</td>\n",
       "      <td>6015</td>\n",
       "      <td>1242</td>\n",
       "    </tr>\n",
       "    <tr>\n",
       "      <th>2</th>\n",
       "      <td>2018</td>\n",
       "      <td>2925</td>\n",
       "      <td>5286</td>\n",
       "      <td>6497</td>\n",
       "      <td>1596</td>\n",
       "    </tr>\n",
       "    <tr>\n",
       "      <th>3</th>\n",
       "      <td>2019</td>\n",
       "      <td>2691</td>\n",
       "      <td>5813</td>\n",
       "      <td>7202</td>\n",
       "      <td>1358</td>\n",
       "    </tr>\n",
       "    <tr>\n",
       "      <th>4</th>\n",
       "      <td>2020</td>\n",
       "      <td>2523</td>\n",
       "      <td>6137</td>\n",
       "      <td>7497</td>\n",
       "      <td>1512</td>\n",
       "    </tr>\n",
       "  </tbody>\n",
       "</table>\n",
       "</div>"
      ],
      "text/plain": [
       "     연도   1분기   2분기   3분기   4분기\n",
       "0  2016  2412  4032  5183  1139\n",
       "1  2017  2725  4986  6015  1242\n",
       "2  2018  2925  5286  6497  1596\n",
       "3  2019  2691  5813  7202  1358\n",
       "4  2020  2523  6137  7497  1512"
      ]
     },
     "execution_count": 85,
     "metadata": {},
     "output_type": "execute_result"
    }
   ],
   "source": [
    "ps_df"
   ]
  },
  {
   "cell_type": "code",
   "execution_count": 86,
   "id": "6c2b708d-401e-47a8-8e42-eeed7f9ee2d9",
   "metadata": {
    "tags": []
   },
   "outputs": [],
   "source": [
    "s1 = pd.Series([10,20,30])"
   ]
  },
  {
   "cell_type": "code",
   "execution_count": 87,
   "id": "1c7b01e3-407d-450a-9b40-5000f421845b",
   "metadata": {
    "tags": []
   },
   "outputs": [],
   "source": [
    "s2 = pd.Series([40,50,60])"
   ]
  },
  {
   "cell_type": "code",
   "execution_count": 88,
   "id": "de70800b-c0f1-4b0f-9647-a8bb27da706b",
   "metadata": {
    "tags": []
   },
   "outputs": [],
   "source": [
    "s3 = pd.Series([70,80,90])"
   ]
  },
  {
   "cell_type": "code",
   "execution_count": 90,
   "id": "2db3dd58-9eeb-4bb9-9fdd-c11143986d7a",
   "metadata": {
    "tags": []
   },
   "outputs": [
    {
     "data": {
      "text/plain": [
       "0    10\n",
       "1    20\n",
       "2    30\n",
       "3    40\n",
       "4    50\n",
       "5    60\n",
       "dtype: int64"
      ]
     },
     "execution_count": 90,
     "metadata": {},
     "output_type": "execute_result"
    }
   ],
   "source": [
    "pd.concat([s1,s2],ignore_index=True)"
   ]
  },
  {
   "cell_type": "code",
   "execution_count": 91,
   "id": "f77c0280-f0e5-4def-bb79-2b4b6ead1649",
   "metadata": {
    "tags": []
   },
   "outputs": [],
   "source": [
    "import requests"
   ]
  },
  {
   "cell_type": "code",
   "execution_count": 93,
   "id": "240ec473-7ec2-415a-85f9-26bfcb7a175f",
   "metadata": {
    "tags": []
   },
   "outputs": [],
   "source": [
    "r = requests.get('https://www.google.co.kr') "
   ]
  },
  {
   "cell_type": "code",
   "execution_count": 94,
   "id": "4cdb1bb1-e92c-47e2-ac63-8d446bd33e16",
   "metadata": {
    "tags": []
   },
   "outputs": [
    {
     "data": {
      "text/plain": [
       "<Response [200]>"
      ]
     },
     "execution_count": 94,
     "metadata": {},
     "output_type": "execute_result"
    }
   ],
   "source": [
    "r"
   ]
  },
  {
   "cell_type": "code",
   "execution_count": 95,
   "id": "a0743f8f-a6af-4391-a995-89f889da7626",
   "metadata": {
    "tags": []
   },
   "outputs": [
    {
     "data": {
      "text/plain": [
       "200"
      ]
     },
     "execution_count": 95,
     "metadata": {},
     "output_type": "execute_result"
    }
   ],
   "source": [
    "r.status_code"
   ]
  },
  {
   "cell_type": "code",
   "execution_count": 96,
   "id": "9fbf2461-42fa-4d2e-aeb5-91235e8870f2",
   "metadata": {
    "tags": []
   },
   "outputs": [
    {
     "data": {
      "text/plain": [
       "requests.models.Response"
      ]
     },
     "execution_count": 96,
     "metadata": {},
     "output_type": "execute_result"
    }
   ],
   "source": [
    "type(r)"
   ]
  },
  {
   "cell_type": "code",
   "execution_count": 100,
   "id": "38c046f3-a030-4685-9ca9-5daa595719bd",
   "metadata": {
    "tags": []
   },
   "outputs": [
    {
     "data": {
      "text/plain": [
       "'<!doctype html><html itemscope=\"\" itemtype=\"http://schema.org/WebPage\" lang=\"ko\"><head><meta content'"
      ]
     },
     "execution_count": 100,
     "metadata": {},
     "output_type": "execute_result"
    }
   ],
   "source": [
    "r.text[0:100]"
   ]
  },
  {
   "cell_type": "code",
   "execution_count": 103,
   "id": "23ee720a-999a-4764-9ed1-ba2b0c25b46c",
   "metadata": {
    "tags": []
   },
   "outputs": [],
   "source": [
    "from bs4 import BeautifulSoup\n",
    "\n",
    "\n"
   ]
  },
  {
   "cell_type": "code",
   "execution_count": 104,
   "id": "fb56ff26-9efe-43a6-8456-01b750f2fe2c",
   "metadata": {
    "tags": []
   },
   "outputs": [
    {
     "data": {
      "text/plain": [
       "{'Date': 'Tue, 03 Oct 2023 13:41:36 GMT', 'Expires': '-1', 'Cache-Control': 'private, max-age=0', 'Content-Type': 'text/html; charset=EUC-KR', 'Content-Security-Policy-Report-Only': \"object-src 'none';base-uri 'self';script-src 'nonce-ms0jmwrI97Ln-vNqmzkTRw' 'strict-dynamic' 'report-sample' 'unsafe-eval' 'unsafe-inline' https: http:;report-uri https://csp.withgoogle.com/csp/gws/other-hp\", 'P3P': 'CP=\"This is not a P3P policy! See g.co/p3phelp for more info.\"', 'Content-Encoding': 'gzip', 'Server': 'gws', 'X-XSS-Protection': '0', 'X-Frame-Options': 'SAMEORIGIN', 'Set-Cookie': '1P_JAR=2023-10-03-13; expires=Thu, 02-Nov-2023 13:41:36 GMT; path=/; domain=.google.co.kr; Secure, AEC=Ackid1SrZqXp61Ypu4jpK8_AjC3Oo0jZTvBMnYoISTDtXiEGxz3cz2yKzg; expires=Sun, 31-Mar-2024 13:41:36 GMT; path=/; domain=.google.co.kr; Secure; HttpOnly; SameSite=lax, NID=511=QXLX5K6NFmdaSHOwt3Kr52Roq2zgiBy-U45EW2XWIUam9aV_4mODRVHXVoa64NwtGg_qkVwNuZYG_GhoURME-r4BLgn0BI726PH5zgmmqaJIT2yvKjCF6q8Gm9GK7UujtnJjxcGIFTVNXPixXCZd6RAr6KWJSXV4afLGaA0MRlw; expires=Wed, 03-Apr-2024 13:41:36 GMT; path=/; domain=.google.co.kr; HttpOnly', 'Alt-Svc': 'h3=\":443\"; ma=2592000,h3-29=\":443\"; ma=2592000', 'Transfer-Encoding': 'chunked'}"
      ]
     },
     "execution_count": 104,
     "metadata": {},
     "output_type": "execute_result"
    }
   ],
   "source": [
    "r.headers"
   ]
  },
  {
   "cell_type": "code",
   "execution_count": 105,
   "id": "5fe27643-43d7-487a-a45d-fd2dffbdad3f",
   "metadata": {
    "tags": []
   },
   "outputs": [
    {
     "data": {
      "text/plain": [
       "'<!doctype html><html itemscope=\"\" itemtype=\"http://schema.org/WebPage\" lang=\"ko\"><head><meta content'"
      ]
     },
     "execution_count": 105,
     "metadata": {},
     "output_type": "execute_result"
    }
   ],
   "source": [
    "html = r.text\n",
    "html[0:100]"
   ]
  },
  {
   "cell_type": "code",
   "execution_count": 106,
   "id": "241604fd-ac1c-4df1-9a68-28d4266840b1",
   "metadata": {
    "tags": []
   },
   "outputs": [],
   "source": [
    "soup = BeautifulSoup(html,'lxml')"
   ]
  },
  {
   "cell_type": "code",
   "execution_count": 109,
   "id": "140e438a-a2ef-4146-9812-26bcfdb0880a",
   "metadata": {
    "tags": []
   },
   "outputs": [
    {
     "data": {
      "text/plain": [
       "NoneType"
      ]
     },
     "execution_count": 109,
     "metadata": {},
     "output_type": "execute_result"
    }
   ],
   "source": [
    "type (soup.headers)"
   ]
  },
  {
   "cell_type": "code",
   "execution_count": 111,
   "id": "440ec301-d7ea-430a-9e09-e98974ae096d",
   "metadata": {
    "tags": []
   },
   "outputs": [
    {
     "name": "stdout",
     "output_type": "stream",
     "text": [
      "None\n"
     ]
    }
   ],
   "source": [
    "print(soup.headers)"
   ]
  },
  {
   "cell_type": "code",
   "execution_count": 112,
   "id": "99ee8850-e373-44fe-8de5-4b21aa4fc316",
   "metadata": {
    "tags": []
   },
   "outputs": [
    {
     "data": {
      "text/plain": [
       "<html><body><div><span> <a href=\"http://www.naver.com\">naver</a> <a href=\"https://www.google.com\">google</a> <a href=\"http://www.daum.net/\">daum</a> </span></div></body></html>"
      ]
     },
     "execution_count": 112,
     "metadata": {},
     "output_type": "execute_result"
    }
   ],
   "source": [
    "# 테스트용 html 소스\n",
    "html = \"\"\"<html><body><div><span>\\\n",
    "        <a href=http://www.naver.com>naver</a>\\\n",
    "        <a href=https://www.google.com>google</a>\\\n",
    "        <a href=http://www.daum.net/>daum</a>\\\n",
    "        </span></div></body></html>\"\"\" \n",
    "\n",
    "# BeautifulSoup를 이용해 HTML 소스를 파싱\n",
    "soup = BeautifulSoup(html, 'lxml') \n",
    "soup"
   ]
  },
  {
   "cell_type": "code",
   "execution_count": 114,
   "id": "e754dca3-b7f0-4987-8024-db8eb69b1738",
   "metadata": {
    "tags": []
   },
   "outputs": [
    {
     "name": "stdout",
     "output_type": "stream",
     "text": [
      "<html>\n",
      " <body>\n",
      "  <div>\n",
      "   <span>\n",
      "    <a href=\"http://www.naver.com\">\n",
      "     naver\n",
      "    </a>\n",
      "    <a href=\"https://www.google.com\">\n",
      "     google\n",
      "    </a>\n",
      "    <a href=\"http://www.daum.net/\">\n",
      "     daum\n",
      "    </a>\n",
      "   </span>\n",
      "  </div>\n",
      " </body>\n",
      "</html>\n",
      "\n"
     ]
    }
   ],
   "source": [
    "print(soup.prettify())"
   ]
  },
  {
   "cell_type": "code",
   "execution_count": 116,
   "id": "409b2f39-6951-4815-bff7-e1e5994dd28e",
   "metadata": {
    "tags": []
   },
   "outputs": [
    {
     "data": {
      "text/plain": [
       "<a href=\"http://www.naver.com\">naver</a>"
      ]
     },
     "execution_count": 116,
     "metadata": {},
     "output_type": "execute_result"
    }
   ],
   "source": [
    "soup.find('a') # 처음 a tab 전체 요소 를 리턴한다. "
   ]
  },
  {
   "cell_type": "code",
   "execution_count": 117,
   "id": "b32ede8a-0752-438d-ac55-def5d389a6d9",
   "metadata": {
    "tags": []
   },
   "outputs": [],
   "source": [
    "first_a = soup.find('a')"
   ]
  },
  {
   "cell_type": "code",
   "execution_count": 121,
   "id": "31f4bdba-24f8-4fbb-b7dd-b5473ff3585a",
   "metadata": {
    "tags": []
   },
   "outputs": [
    {
     "data": {
      "text/plain": [
       "str"
      ]
     },
     "execution_count": 121,
     "metadata": {},
     "output_type": "execute_result"
    }
   ],
   "source": [
    "type(first_a.get_text())"
   ]
  },
  {
   "cell_type": "code",
   "execution_count": 125,
   "id": "b07b4793-9ffb-488d-9aa7-1b754d350b0c",
   "metadata": {
    "tags": []
   },
   "outputs": [],
   "source": [
    "get_text = first_a.get_text()"
   ]
  },
  {
   "cell_type": "code",
   "execution_count": 129,
   "id": "b9a506b6-26b3-4dc7-8576-ca3787a0e047",
   "metadata": {
    "tags": []
   },
   "outputs": [
    {
     "name": "stdout",
     "output_type": "stream",
     "text": [
      "the first a tag's text is naver \n"
     ]
    }
   ],
   "source": [
    "print(f\"the first a tag's text is {get_text} \")  "
   ]
  },
  {
   "cell_type": "code",
   "execution_count": 131,
   "id": "aed836e8-a5d4-4dbf-b76b-e51bbfa14a62",
   "metadata": {
    "tags": []
   },
   "outputs": [],
   "source": [
    "get_href = first_a['href']"
   ]
  },
  {
   "cell_type": "code",
   "execution_count": 132,
   "id": "e941eaf4-c231-45be-8a45-af30d0064136",
   "metadata": {
    "tags": []
   },
   "outputs": [
    {
     "name": "stdout",
     "output_type": "stream",
     "text": [
      "http://www.naver.com\n"
     ]
    }
   ],
   "source": [
    "print(get_href)"
   ]
  },
  {
   "cell_type": "code",
   "execution_count": 133,
   "id": "40309cfd-91dc-410d-bcfd-f93d444f9a23",
   "metadata": {
    "tags": []
   },
   "outputs": [],
   "source": [
    "findall_result= soup.find_all('a')"
   ]
  },
  {
   "cell_type": "code",
   "execution_count": 134,
   "id": "b92b4f69-b8d7-4997-967c-812e801096b8",
   "metadata": {
    "tags": []
   },
   "outputs": [
    {
     "name": "stdout",
     "output_type": "stream",
     "text": [
      "[<a href=\"http://www.naver.com\">naver</a>, <a href=\"https://www.google.com\">google</a>, <a href=\"http://www.daum.net/\">daum</a>]\n"
     ]
    }
   ],
   "source": [
    "print(findall_result)"
   ]
  },
  {
   "cell_type": "code",
   "execution_count": 146,
   "id": "37508830-4616-4eab-996d-67ff79ccb784",
   "metadata": {
    "tags": []
   },
   "outputs": [
    {
     "name": "stdout",
     "output_type": "stream",
     "text": [
      "naver address :  http://www.naver.com\n",
      "google address :  https://www.google.com\n",
      "daum address :  http://www.daum.net/\n"
     ]
    }
   ],
   "source": [
    "for i in findall_result:\n",
    "    print(i.get_text(),\"address : \",i.get('href'))"
   ]
  },
  {
   "cell_type": "code",
   "execution_count": 148,
   "id": "52e8b588-b9c7-49fd-9e51-0ae2ddf12369",
   "metadata": {
    "tags": []
   },
   "outputs": [
    {
     "data": {
      "text/plain": [
       "['naver', 'google', 'daum']"
      ]
     },
     "execution_count": 148,
     "metadata": {},
     "output_type": "execute_result"
    }
   ],
   "source": [
    "[x.get_text() for x in soup.find_all('a')]"
   ]
  },
  {
   "cell_type": "code",
   "execution_count": 188,
   "id": "a869c861-8911-4fb1-82d3-ebe322cfafb1",
   "metadata": {
    "tags": []
   },
   "outputs": [],
   "source": [
    "html2 = \"\"\"\n",
    "<html>\n",
    " <head>\n",
    "  <title>작품과 작가 모음</title>\n",
    " </head>\n",
    " <body>\n",
    "  <h1>책 정보</h1>\n",
    "  <p id=\"book_title\">토지</p>\n",
    "  <p id=\"author\">박경리</p>\n",
    "  \n",
    "  <p id=\"book_title\">태백산맥</p>\n",
    "  <p id=\"author\">조정래</p>\n",
    "\n",
    "  <p id=\"book_title\">감옥으로부터의 사색</p>\n",
    "  <p id=\"author\">신영복</p>\n",
    "  </body>\n",
    "</html>\n",
    "\"\"\" "
   ]
  },
  {
   "cell_type": "code",
   "execution_count": 189,
   "id": "29226288-2fe7-46fb-aa9f-9ae1f995c835",
   "metadata": {
    "tags": []
   },
   "outputs": [],
   "source": [
    "soup2 = BeautifulSoup(html2,'lxml')"
   ]
  },
  {
   "cell_type": "code",
   "execution_count": 190,
   "id": "5dce506a-57a6-4fc4-852d-132c96e28af9",
   "metadata": {
    "tags": []
   },
   "outputs": [
    {
     "data": {
      "text/plain": [
       "<head>\n",
       "<title>작품과 작가 모음</title>\n",
       "</head>"
      ]
     },
     "execution_count": 190,
     "metadata": {},
     "output_type": "execute_result"
    }
   ],
   "source": [
    "soup2.head"
   ]
  },
  {
   "cell_type": "code",
   "execution_count": 191,
   "id": "8ebc69d3-176c-4677-9fc7-ec2700c832ed",
   "metadata": {
    "tags": []
   },
   "outputs": [
    {
     "data": {
      "text/plain": [
       "<title>작품과 작가 모음</title>"
      ]
     },
     "execution_count": 191,
     "metadata": {},
     "output_type": "execute_result"
    }
   ],
   "source": [
    "soup2.head.title"
   ]
  },
  {
   "cell_type": "code",
   "execution_count": 192,
   "id": "f51054ab-c606-4881-ae66-b8ce3d0b714c",
   "metadata": {
    "tags": []
   },
   "outputs": [
    {
     "data": {
      "text/plain": [
       "'작품과 작가 모음'"
      ]
     },
     "execution_count": 192,
     "metadata": {},
     "output_type": "execute_result"
    }
   ],
   "source": [
    "soup2.head.title.get_text()"
   ]
  },
  {
   "cell_type": "code",
   "execution_count": 193,
   "id": "fd25c649-9728-4379-a063-9ea0109e4a55",
   "metadata": {
    "tags": []
   },
   "outputs": [
    {
     "data": {
      "text/plain": [
       "<p id=\"book_title\">토지</p>"
      ]
     },
     "execution_count": 193,
     "metadata": {},
     "output_type": "execute_result"
    }
   ],
   "source": [
    "soup2.body.p # 첫번째 하위 태그만 반환 "
   ]
  },
  {
   "cell_type": "code",
   "execution_count": null,
   "id": "f63ce7c1-27cf-486b-b39c-95073f7ca5e9",
   "metadata": {},
   "outputs": [],
   "source": []
  },
  {
   "cell_type": "code",
   "execution_count": 194,
   "id": "ad564c8d-21ec-4515-b251-b9c614a98fe3",
   "metadata": {
    "tags": []
   },
   "outputs": [
    {
     "data": {
      "text/plain": [
       "<h1>책 정보</h1>"
      ]
     },
     "execution_count": 194,
     "metadata": {},
     "output_type": "execute_result"
    }
   ],
   "source": [
    "soup2.body.h1"
   ]
  },
  {
   "cell_type": "code",
   "execution_count": 195,
   "id": "fbb7938e-4799-4888-a684-5e32cee09bf9",
   "metadata": {
    "tags": []
   },
   "outputs": [
    {
     "data": {
      "text/plain": [
       "<p id=\"book_title\">토지</p>"
      ]
     },
     "execution_count": 195,
     "metadata": {},
     "output_type": "execute_result"
    }
   ],
   "source": [
    "soup2.p"
   ]
  },
  {
   "cell_type": "code",
   "execution_count": 213,
   "id": "8d466fc3-d9f1-4cb0-bbe5-217910195485",
   "metadata": {
    "tags": []
   },
   "outputs": [
    {
     "name": "stdout",
     "output_type": "stream",
     "text": [
      "book_title\n"
     ]
    }
   ],
   "source": [
    "print(soup2.p[\"id\"])"
   ]
  },
  {
   "cell_type": "code",
   "execution_count": 228,
   "id": "699c29c2-caf0-415f-8458-508fc1447cf9",
   "metadata": {
    "tags": []
   },
   "outputs": [],
   "source": [
    "book_titles = soup2.find_all(\"p\",{'id':'book_title'}) "
   ]
  },
  {
   "cell_type": "code",
   "execution_count": 231,
   "id": "e3f5598a-dbcc-4e15-9b23-0dde33e04076",
   "metadata": {
    "tags": []
   },
   "outputs": [
    {
     "name": "stdout",
     "output_type": "stream",
     "text": [
      "[<p id=\"book_title\">토지</p>, <p id=\"book_title\">태백산맥</p>, <p id=\"book_title\">감옥으로부터의 사색</p>]\n"
     ]
    }
   ],
   "source": [
    "print(book_titles)"
   ]
  },
  {
   "cell_type": "code",
   "execution_count": 232,
   "id": "bd8e2d30-f333-43fa-9825-d0b727a5abdd",
   "metadata": {
    "tags": []
   },
   "outputs": [],
   "source": [
    "authors = soup2.find_all('p',{'id':'author'})"
   ]
  },
  {
   "cell_type": "code",
   "execution_count": 233,
   "id": "ac305efd-8609-4a5a-acd7-4fa5feb80995",
   "metadata": {
    "tags": []
   },
   "outputs": [
    {
     "name": "stdout",
     "output_type": "stream",
     "text": [
      "[<p id=\"author\">박경리</p>, <p id=\"author\">조정래</p>, <p id=\"author\">신영복</p>]\n"
     ]
    }
   ],
   "source": [
    "print(authors)"
   ]
  },
  {
   "cell_type": "code",
   "execution_count": 235,
   "id": "d1c1d7a1-b596-4a76-8dc8-a784c9990b16",
   "metadata": {
    "tags": []
   },
   "outputs": [
    {
     "name": "stdout",
     "output_type": "stream",
     "text": [
      "토지:박경리\n",
      "태백산맥:조정래\n",
      "감옥으로부터의 사색:신영복\n"
     ]
    }
   ],
   "source": [
    "for book_title, author in zip(book_titles,authors):\n",
    "    print(book_title.get_text()+ ':' + author.get_text()) \n"
   ]
  },
  {
   "cell_type": "code",
   "execution_count": 236,
   "id": "aae6995a-f920-4f98-ac2d-68cb78b3c20a",
   "metadata": {
    "tags": []
   },
   "outputs": [],
   "source": [
    "# Select 사용하기\n",
    "html2 = \"\"\"\n",
    "<html>\n",
    " <head>\n",
    "  <title>작품과 작가 모음</title>\n",
    " </head>\n",
    " <body>\n",
    "  <h1>책 정보</h1>\n",
    "  <p id=\"book_title\">토지</p>\n",
    "  <p id=\"author\">박경리</p>\n",
    "  \n",
    "  <p id=\"book_title\">태백산맥</p>\n",
    "  <p id=\"author\">조정래</p>\n",
    "\n",
    "  <p id=\"book_title\">감옥으로부터의 사색</p>\n",
    "  <p id=\"author\">신영복</p>\n",
    "  </body>\n",
    "</html>\n",
    "\"\"\" "
   ]
  },
  {
   "cell_type": "code",
   "execution_count": 237,
   "id": "7591d9d5-19de-4e79-baa9-e913e71184b5",
   "metadata": {
    "tags": []
   },
   "outputs": [],
   "source": [
    "soup = BeautifulSoup(html2,'lxml')"
   ]
  },
  {
   "cell_type": "code",
   "execution_count": 245,
   "id": "de184385-74bf-4a77-b912-5ff53dd5f6b1",
   "metadata": {
    "tags": []
   },
   "outputs": [],
   "source": [
    "book_title_author = soup.select_one('body h1')"
   ]
  },
  {
   "cell_type": "code",
   "execution_count": 246,
   "id": "165f1c07-8b26-41b7-bb7c-cbcf5c583f6d",
   "metadata": {
    "tags": []
   },
   "outputs": [
    {
     "name": "stdout",
     "output_type": "stream",
     "text": [
      "책 정보\n"
     ]
    }
   ],
   "source": [
    "print(book_title_author.get_text()) "
   ]
  },
  {
   "cell_type": "code",
   "execution_count": 247,
   "id": "b323d332-5a9b-433e-8f9f-5570b6fe77f4",
   "metadata": {
    "tags": []
   },
   "outputs": [],
   "source": [
    "book_titles = soup.select('p#book_title') "
   ]
  },
  {
   "cell_type": "code",
   "execution_count": 248,
   "id": "49780c5d-e6a4-46b8-8b61-bc19c1e23937",
   "metadata": {
    "tags": []
   },
   "outputs": [
    {
     "name": "stdout",
     "output_type": "stream",
     "text": [
      "[<p id=\"book_title\">토지</p>, <p id=\"book_title\">태백산맥</p>, <p id=\"book_title\">감옥으로부터의 사색</p>]\n"
     ]
    }
   ],
   "source": [
    "print(book_titles)"
   ]
  },
  {
   "cell_type": "code",
   "execution_count": 249,
   "id": "b76e0fb1-2fc1-4163-822a-610d406b6b3e",
   "metadata": {
    "tags": []
   },
   "outputs": [],
   "source": [
    "book_authors = soup.select('p#author')"
   ]
  },
  {
   "cell_type": "code",
   "execution_count": 250,
   "id": "69c50e29-2a84-4ae9-9c0f-4df1ab0415e5",
   "metadata": {
    "tags": []
   },
   "outputs": [
    {
     "name": "stdout",
     "output_type": "stream",
     "text": [
      "[<p id=\"author\">박경리</p>, <p id=\"author\">조정래</p>, <p id=\"author\">신영복</p>]\n"
     ]
    }
   ],
   "source": [
    "print(book_authors)"
   ]
  },
  {
   "cell_type": "code",
   "execution_count": 251,
   "id": "989d4efd-be6f-43ca-84c3-45fa44406d91",
   "metadata": {
    "tags": []
   },
   "outputs": [
    {
     "name": "stdout",
     "output_type": "stream",
     "text": [
      "토지  :  박경리\n",
      "태백산맥  :  조정래\n",
      "감옥으로부터의 사색  :  신영복\n"
     ]
    }
   ],
   "source": [
    "for title, author in zip(book_titles, book_authors):\n",
    "    print(title.get_text() , \" : \", author.get_text())"
   ]
  },
  {
   "cell_type": "code",
   "execution_count": 252,
   "id": "d8121dee-256e-49f4-ae96-dab5b986eaf9",
   "metadata": {
    "tags": []
   },
   "outputs": [
    {
     "name": "stdout",
     "output_type": "stream",
     "text": [
      "Writing ./HTML_example_my_site.html\n"
     ]
    }
   ],
   "source": [
    "%%writefile ./HTML_example_my_site.html \n",
    "\n",
    "<!doctype html>\n",
    "<html>\n",
    "  <head>\n",
    "    <meta charset=\"utf-8\">\n",
    "    <title>사이트 모음</title>\n",
    "  </head>\n",
    "  <body>\n",
    "    <p id=\"title\"><b>자주 가는 사이트 모음</b></p>\n",
    "    <p id=\"contents\">이곳은 자주 가는 사이트를 모아둔 곳입니다.</p>\n",
    "    <a href=\"http://www.naver.com\" class=\"portal\" id=\"naver\">네이버</a> <br>\n",
    "    <a href=\"https://www.google.com\" class=\"search\" id=\"google\">구글</a> <br>\n",
    "    <a href=\"http://www.daum.net\" class=\"portal\" id=\"daum\">다음</a> <br>\n",
    "    <a href=\"http://www.nl.go.kr\" class=\"government\" id=\"nl\">국립중앙도서관</a>\n",
    "  </body>\n",
    "</html>"
   ]
  },
  {
   "cell_type": "code",
   "execution_count": 253,
   "id": "9027b1e9-caab-48ec-94f5-cf37f0e893f0",
   "metadata": {
    "tags": []
   },
   "outputs": [],
   "source": [
    "f = open('./HTML_example_my_site.html', encoding='utf-8')"
   ]
  },
  {
   "cell_type": "code",
   "execution_count": 254,
   "id": "95e52769-76b7-41b0-924a-e6af0e94d04a",
   "metadata": {
    "tags": []
   },
   "outputs": [],
   "source": [
    "html3 = f.read()"
   ]
  },
  {
   "cell_type": "code",
   "execution_count": 255,
   "id": "8b2b15f4-c43e-4dad-a987-e49345a981be",
   "metadata": {
    "tags": []
   },
   "outputs": [],
   "source": [
    "f.close()"
   ]
  },
  {
   "cell_type": "code",
   "execution_count": 256,
   "id": "a08f02c6-fdb7-4667-a945-d806dad2dcf8",
   "metadata": {
    "tags": []
   },
   "outputs": [
    {
     "name": "stdout",
     "output_type": "stream",
     "text": [
      "\n",
      "<!doctype html>\n",
      "<html>\n",
      "  <head>\n",
      "    <meta charset=\"utf-8\">\n",
      "    <title>사이트 모음</title>\n",
      "  </head>\n",
      "  <b\n"
     ]
    }
   ],
   "source": [
    "print(html3[0:100])"
   ]
  },
  {
   "cell_type": "code",
   "execution_count": 257,
   "id": "c10ddda4-7609-48a7-a94f-6afd93609c09",
   "metadata": {
    "tags": []
   },
   "outputs": [],
   "source": [
    "soup3 = BeautifulSoup(html3, 'lxml') "
   ]
  },
  {
   "cell_type": "code",
   "execution_count": 258,
   "id": "08c3e317-9e0e-43ad-baef-321fd6cf40db",
   "metadata": {
    "tags": []
   },
   "outputs": [
    {
     "data": {
      "text/plain": [
       "bs4.BeautifulSoup"
      ]
     },
     "execution_count": 258,
     "metadata": {},
     "output_type": "execute_result"
    }
   ],
   "source": [
    "type(soup3)"
   ]
  },
  {
   "cell_type": "code",
   "execution_count": 259,
   "id": "318fece7-8c4b-4448-b0e0-5c9a31f82895",
   "metadata": {
    "tags": []
   },
   "outputs": [
    {
     "name": "stdout",
     "output_type": "stream",
     "text": [
      "<!DOCTYPE html>\n",
      "<html>\n",
      " <head>\n",
      "  <meta charset=\"utf-8\"/>\n",
      "  <title>\n",
      "   사이트 모음\n",
      "  </title>\n",
      " </head>\n",
      " <body>\n",
      "  <p id=\"title\">\n",
      "   <b>\n",
      "    자주 가는 사이트 모음\n",
      "   </b>\n",
      "  </p>\n",
      "  <p id=\"contents\">\n",
      "   이곳은 자주 가는 사이트를 모아둔 곳입니다.\n",
      "  </p>\n",
      "  <a class=\"portal\" href=\"http://www.naver.com\" id=\"naver\">\n",
      "   네이버\n",
      "  </a>\n",
      "  <br/>\n",
      "  <a class=\"search\" href=\"https://www.google.com\" id=\"google\">\n",
      "   구글\n",
      "  </a>\n",
      "  <br/>\n",
      "  <a class=\"portal\" href=\"http://www.daum.net\" id=\"daum\">\n",
      "   다음\n",
      "  </a>\n",
      "  <br/>\n",
      "  <a class=\"government\" href=\"http://www.nl.go.kr\" id=\"nl\">\n",
      "   국립중앙도서관\n",
      "  </a>\n",
      " </body>\n",
      "</html>\n",
      "\n"
     ]
    }
   ],
   "source": [
    "print(soup3.prettify())"
   ]
  },
  {
   "cell_type": "code",
   "execution_count": 260,
   "id": "ead56462-78d1-4b70-b4a3-96004f73bb13",
   "metadata": {
    "tags": []
   },
   "outputs": [
    {
     "data": {
      "text/plain": [
       "[<a class=\"portal\" href=\"http://www.naver.com\" id=\"naver\">네이버</a>,\n",
       " <a class=\"search\" href=\"https://www.google.com\" id=\"google\">구글</a>,\n",
       " <a class=\"portal\" href=\"http://www.daum.net\" id=\"daum\">다음</a>,\n",
       " <a class=\"government\" href=\"http://www.nl.go.kr\" id=\"nl\">국립중앙도서관</a>]"
      ]
     },
     "execution_count": 260,
     "metadata": {},
     "output_type": "execute_result"
    }
   ],
   "source": [
    "soup3.select('a')"
   ]
  },
  {
   "cell_type": "code",
   "execution_count": 263,
   "id": "cc91b231-05e4-4574-a7a6-3d43a3cca59f",
   "metadata": {
    "tags": []
   },
   "outputs": [
    {
     "data": {
      "text/plain": [
       "[<a class=\"portal\" href=\"http://www.naver.com\" id=\"naver\">네이버</a>]"
      ]
     },
     "execution_count": 263,
     "metadata": {},
     "output_type": "execute_result"
    }
   ],
   "source": [
    "soup3.select('a.portal#naver')"
   ]
  },
  {
   "cell_type": "code",
   "execution_count": null,
   "id": "c01e6aa7-c6aa-4100-86ae-0ee04163f1d6",
   "metadata": {},
   "outputs": [],
   "source": []
  }
 ],
 "metadata": {
  "kernelspec": {
   "display_name": "Python 3 (ipykernel)",
   "language": "python",
   "name": "python3"
  },
  "language_info": {
   "codemirror_mode": {
    "name": "ipython",
    "version": 3
   },
   "file_extension": ".py",
   "mimetype": "text/x-python",
   "name": "python",
   "nbconvert_exporter": "python",
   "pygments_lexer": "ipython3",
   "version": "3.11.5"
  }
 },
 "nbformat": 4,
 "nbformat_minor": 5
}
