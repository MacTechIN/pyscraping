{
 "cells": [
  {
   "cell_type": "code",
   "execution_count": 1,
   "id": "273d4f4e",
   "metadata": {},
   "outputs": [],
   "source": [
    "import pandas as pd \n",
    "import numpy as np "
   ]
  },
  {
   "cell_type": "code",
   "execution_count": 2,
   "id": "b7dd932b",
   "metadata": {},
   "outputs": [],
   "source": [
    "csv_file = './A_product_sales.csv'"
   ]
  },
  {
   "cell_type": "code",
   "execution_count": 3,
   "id": "80e661ac",
   "metadata": {},
   "outputs": [
    {
     "name": "stdout",
     "output_type": "stream",
     "text": [
      "./A_product_sales.csv\n"
     ]
    }
   ],
   "source": [
    "print(csv_file)"
   ]
  },
  {
   "cell_type": "code",
   "execution_count": 4,
   "id": "4f83673d",
   "metadata": {},
   "outputs": [
    {
     "data": {
      "text/plain": [
       "str"
      ]
     },
     "execution_count": 4,
     "metadata": {},
     "output_type": "execute_result"
    }
   ],
   "source": [
    "type (csv_file)"
   ]
  },
  {
   "cell_type": "code",
   "execution_count": 7,
   "id": "a329720b",
   "metadata": {},
   "outputs": [],
   "source": [
    "df = pd.read_csv(csv_file, encoding = \"utf-8\")"
   ]
  },
  {
   "cell_type": "code",
   "execution_count": 8,
   "id": "4d460721",
   "metadata": {},
   "outputs": [
    {
     "name": "stdout",
     "output_type": "stream",
     "text": [
      "     연도   1분기   2분기   3분기   4분기\n",
      "0  2016  2412  4032  5183  1139\n",
      "1  2017  2725  4986  6015  1242\n",
      "2  2018  2925  5286  6497  1596\n",
      "3  2019  2691  5813  7202  1358\n",
      "4  2020  2523  6137  7497  1512\n"
     ]
    }
   ],
   "source": [
    "print(df)"
   ]
  },
  {
   "cell_type": "code",
   "execution_count": 9,
   "id": "f1327bcc",
   "metadata": {},
   "outputs": [
    {
     "data": {
      "text/html": [
       "<div>\n",
       "<style scoped>\n",
       "    .dataframe tbody tr th:only-of-type {\n",
       "        vertical-align: middle;\n",
       "    }\n",
       "\n",
       "    .dataframe tbody tr th {\n",
       "        vertical-align: top;\n",
       "    }\n",
       "\n",
       "    .dataframe thead th {\n",
       "        text-align: right;\n",
       "    }\n",
       "</style>\n",
       "<table border=\"1\" class=\"dataframe\">\n",
       "  <thead>\n",
       "    <tr style=\"text-align: right;\">\n",
       "      <th></th>\n",
       "      <th>연도</th>\n",
       "      <th>1분기</th>\n",
       "      <th>2분기</th>\n",
       "      <th>3분기</th>\n",
       "      <th>4분기</th>\n",
       "    </tr>\n",
       "  </thead>\n",
       "  <tbody>\n",
       "    <tr>\n",
       "      <th>0</th>\n",
       "      <td>2016</td>\n",
       "      <td>2412</td>\n",
       "      <td>4032</td>\n",
       "      <td>5183</td>\n",
       "      <td>1139</td>\n",
       "    </tr>\n",
       "    <tr>\n",
       "      <th>1</th>\n",
       "      <td>2017</td>\n",
       "      <td>2725</td>\n",
       "      <td>4986</td>\n",
       "      <td>6015</td>\n",
       "      <td>1242</td>\n",
       "    </tr>\n",
       "    <tr>\n",
       "      <th>2</th>\n",
       "      <td>2018</td>\n",
       "      <td>2925</td>\n",
       "      <td>5286</td>\n",
       "      <td>6497</td>\n",
       "      <td>1596</td>\n",
       "    </tr>\n",
       "    <tr>\n",
       "      <th>3</th>\n",
       "      <td>2019</td>\n",
       "      <td>2691</td>\n",
       "      <td>5813</td>\n",
       "      <td>7202</td>\n",
       "      <td>1358</td>\n",
       "    </tr>\n",
       "    <tr>\n",
       "      <th>4</th>\n",
       "      <td>2020</td>\n",
       "      <td>2523</td>\n",
       "      <td>6137</td>\n",
       "      <td>7497</td>\n",
       "      <td>1512</td>\n",
       "    </tr>\n",
       "  </tbody>\n",
       "</table>\n",
       "</div>"
      ],
      "text/plain": [
       "     연도   1분기   2분기   3분기   4분기\n",
       "0  2016  2412  4032  5183  1139\n",
       "1  2017  2725  4986  6015  1242\n",
       "2  2018  2925  5286  6497  1596\n",
       "3  2019  2691  5813  7202  1358\n",
       "4  2020  2523  6137  7497  1512"
      ]
     },
     "execution_count": 9,
     "metadata": {},
     "output_type": "execute_result"
    }
   ],
   "source": [
    "df[:]"
   ]
  },
  {
   "cell_type": "code",
   "execution_count": 13,
   "id": "b33dd7b2",
   "metadata": {},
   "outputs": [],
   "source": [
    "ex = df[\"1분기\"]"
   ]
  },
  {
   "cell_type": "code",
   "execution_count": 30,
   "id": "59cd3578",
   "metadata": {},
   "outputs": [
    {
     "data": {
      "text/plain": [
       "0    2412\n",
       "1    2725\n",
       "2    2925\n",
       "3    2691\n",
       "4    2523\n",
       "Name: 1분기, dtype: int64"
      ]
     },
     "execution_count": 30,
     "metadata": {},
     "output_type": "execute_result"
    }
   ],
   "source": [
    "df[\"1분기\"][:]"
   ]
  },
  {
   "cell_type": "code",
   "execution_count": 31,
   "id": "677676ab",
   "metadata": {},
   "outputs": [],
   "source": [
    "#Excel file Reading\n",
    "\n",
    "excel_file = \"./CES마켓_주문내역.xlsx\""
   ]
  },
  {
   "cell_type": "code",
   "execution_count": 32,
   "id": "09f0825a",
   "metadata": {},
   "outputs": [],
   "source": [
    "df = pd.read_excel(excel_file)"
   ]
  },
  {
   "cell_type": "code",
   "execution_count": 33,
   "id": "c52b6548",
   "metadata": {},
   "outputs": [
    {
     "name": "stdout",
     "output_type": "stream",
     "text": [
      "     주문번호 주문지역       주문일자  제품유형        고객ID 고객등급\n",
      "0  351291   서울 2022-07-04    의류  EeNMuRpdzG    A\n",
      "1  351292   경기 2022-07-05   컴퓨터  H7o4KJizTE    B\n",
      "2  351293   강원 2022-07-06   식료품  OEA4cDdkyg    A\n",
      "3  351294   호남 2022-07-07  주방제품  GGe6nkrlnV    C\n",
      "4  351295   영남 2022-07-08    여행    jTrJPdZA    B\n",
      "5  351296   충청 2022-07-09    도서   Fjs00aZuo    C\n"
     ]
    }
   ],
   "source": [
    "print(df)"
   ]
  },
  {
   "cell_type": "code",
   "execution_count": 34,
   "id": "a93712c0",
   "metadata": {},
   "outputs": [],
   "source": [
    "df = pd.read_excel(excel_file,index_col='주문번호')"
   ]
  },
  {
   "cell_type": "code",
   "execution_count": 35,
   "id": "4ca5b493",
   "metadata": {},
   "outputs": [
    {
     "name": "stdout",
     "output_type": "stream",
     "text": [
      "       주문지역       주문일자  제품유형        고객ID 고객등급\n",
      "주문번호                                         \n",
      "351291   서울 2022-07-04    의류  EeNMuRpdzG    A\n",
      "351292   경기 2022-07-05   컴퓨터  H7o4KJizTE    B\n",
      "351293   강원 2022-07-06   식료품  OEA4cDdkyg    A\n",
      "351294   호남 2022-07-07  주방제품  GGe6nkrlnV    C\n",
      "351295   영남 2022-07-08    여행    jTrJPdZA    B\n",
      "351296   충청 2022-07-09    도서   Fjs00aZuo    C\n"
     ]
    }
   ],
   "source": [
    "print (df)"
   ]
  },
  {
   "cell_type": "code",
   "execution_count": 36,
   "id": "84d5af5e",
   "metadata": {},
   "outputs": [],
   "source": [
    "\n",
    "index_data = ['a','b','c','d','e']\n",
    "data = [0.0,1.0,2.0,3.0,4.0]\n",
    "s1 = pd.Series(data,index = index_data)\n",
    "\n"
   ]
  },
  {
   "cell_type": "code",
   "execution_count": 37,
   "id": "65ac2d31",
   "metadata": {},
   "outputs": [
    {
     "name": "stdout",
     "output_type": "stream",
     "text": [
      "a    0.0\n",
      "b    1.0\n",
      "c    2.0\n",
      "d    3.0\n",
      "e    4.0\n",
      "dtype: float64\n"
     ]
    }
   ],
   "source": [
    "print(s1)"
   ]
  },
  {
   "cell_type": "code",
   "execution_count": 38,
   "id": "8912b88b",
   "metadata": {},
   "outputs": [
    {
     "data": {
      "text/plain": [
       "0.0"
      ]
     },
     "execution_count": 38,
     "metadata": {},
     "output_type": "execute_result"
    }
   ],
   "source": [
    "s1.loc['a']"
   ]
  },
  {
   "cell_type": "code",
   "execution_count": 40,
   "id": "e0ae7963",
   "metadata": {},
   "outputs": [],
   "source": [
    "r = s1.loc[['a','c','e']]"
   ]
  },
  {
   "cell_type": "code",
   "execution_count": 42,
   "id": "1eb9be91",
   "metadata": {},
   "outputs": [
    {
     "name": "stdout",
     "output_type": "stream",
     "text": [
      "4.0\n"
     ]
    }
   ],
   "source": [
    "print(r[2])"
   ]
  },
  {
   "cell_type": "code",
   "execution_count": 44,
   "id": "be10ce21",
   "metadata": {},
   "outputs": [
    {
     "ename": "SyntaxError",
     "evalue": "invalid syntax (1049753109.py, line 1)",
     "output_type": "error",
     "traceback": [
      "\u001b[0;36m  Cell \u001b[0;32mIn[44], line 1\u001b[0;36m\u001b[0m\n\u001b[0;31m    s1.loc[[1:2]]\u001b[0m\n\u001b[0m             ^\u001b[0m\n\u001b[0;31mSyntaxError\u001b[0m\u001b[0;31m:\u001b[0m invalid syntax\n"
     ]
    }
   ],
   "source": [
    "s1.loc[[1:2]]"
   ]
  },
  {
   "cell_type": "code",
   "execution_count": 47,
   "id": "aa5be398",
   "metadata": {},
   "outputs": [
    {
     "data": {
      "text/plain": [
       "c    2.0\n",
       "d    3.0\n",
       "dtype: float64"
      ]
     },
     "execution_count": 47,
     "metadata": {},
     "output_type": "execute_result"
    }
   ],
   "source": [
    "s1.iloc[2:4]"
   ]
  },
  {
   "cell_type": "code",
   "execution_count": 48,
   "id": "979895c9",
   "metadata": {},
   "outputs": [
    {
     "data": {
      "text/plain": [
       "a    0.0\n",
       "b    1.0\n",
       "c    2.0\n",
       "d    3.0\n",
       "e    4.0\n",
       "dtype: float64"
      ]
     },
     "execution_count": 48,
     "metadata": {},
     "output_type": "execute_result"
    }
   ],
   "source": [
    "s1"
   ]
  },
  {
   "cell_type": "code",
   "execution_count": 57,
   "id": "099126db",
   "metadata": {},
   "outputs": [],
   "source": [
    "dict_data = {'Col_A': [0,10,20,30,40,50],\"Col_B\":[0.1,0.3,0.5,0.6,0.7,0.8], \"Col_C\":[0,100,200,300,400,500]}"
   ]
  },
  {
   "cell_type": "code",
   "execution_count": 59,
   "id": "e8b016e1",
   "metadata": {},
   "outputs": [],
   "source": [
    "index_data = ['row_a','row_b','row_c','row_d','row_e','row_f']"
   ]
  },
  {
   "cell_type": "code",
   "execution_count": 60,
   "id": "09522dbd",
   "metadata": {},
   "outputs": [],
   "source": [
    "df1 = pd.DataFrame(dict_data, index = index_data)"
   ]
  },
  {
   "cell_type": "code",
   "execution_count": 61,
   "id": "e89bdceb",
   "metadata": {},
   "outputs": [
    {
     "name": "stdout",
     "output_type": "stream",
     "text": [
      "       Col_A  Col_B  Col_C\n",
      "row_a      0    0.1      0\n",
      "row_b     10    0.3    100\n",
      "row_c     20    0.5    200\n",
      "row_d     30    0.6    300\n",
      "row_e     40    0.7    400\n",
      "row_f     50    0.8    500\n"
     ]
    }
   ],
   "source": [
    "print(df1)"
   ]
  },
  {
   "cell_type": "code",
   "execution_count": 63,
   "id": "02db08de",
   "metadata": {},
   "outputs": [
    {
     "data": {
      "text/plain": [
       "Col_A    0.0\n",
       "Col_B    0.1\n",
       "Col_C    0.0\n",
       "Name: row_a, dtype: float64"
      ]
     },
     "execution_count": 63,
     "metadata": {},
     "output_type": "execute_result"
    }
   ],
   "source": [
    "df1.loc['row_a']"
   ]
  },
  {
   "cell_type": "code",
   "execution_count": 65,
   "id": "4cee9f38",
   "metadata": {},
   "outputs": [],
   "source": [
    "r = df1[\"Col_B\"]"
   ]
  },
  {
   "cell_type": "code",
   "execution_count": 85,
   "id": "ebcaa992",
   "metadata": {},
   "outputs": [
    {
     "name": "stdout",
     "output_type": "stream",
     "text": [
      "       Col_A  Col_B  Col_C\n",
      "row_a      0    0.1      0\n",
      "row_c     20    0.5    200\n"
     ]
    }
   ],
   "source": [
    "print(df1.loc[[\"row_a\",\"row_c\"]])"
   ]
  },
  {
   "cell_type": "code",
   "execution_count": 92,
   "id": "73e94761",
   "metadata": {},
   "outputs": [
    {
     "data": {
      "text/html": [
       "<div>\n",
       "<style scoped>\n",
       "    .dataframe tbody tr th:only-of-type {\n",
       "        vertical-align: middle;\n",
       "    }\n",
       "\n",
       "    .dataframe tbody tr th {\n",
       "        vertical-align: top;\n",
       "    }\n",
       "\n",
       "    .dataframe thead th {\n",
       "        text-align: right;\n",
       "    }\n",
       "</style>\n",
       "<table border=\"1\" class=\"dataframe\">\n",
       "  <thead>\n",
       "    <tr style=\"text-align: right;\">\n",
       "      <th></th>\n",
       "      <th>Col_A</th>\n",
       "      <th>Col_B</th>\n",
       "      <th>Col_C</th>\n",
       "    </tr>\n",
       "  </thead>\n",
       "  <tbody>\n",
       "    <tr>\n",
       "      <th>row_a</th>\n",
       "      <td>NaN</td>\n",
       "      <td>NaN</td>\n",
       "      <td>NaN</td>\n",
       "    </tr>\n",
       "    <tr>\n",
       "      <th>row_b</th>\n",
       "      <td>NaN</td>\n",
       "      <td>NaN</td>\n",
       "      <td>NaN</td>\n",
       "    </tr>\n",
       "    <tr>\n",
       "      <th>row_c</th>\n",
       "      <td>NaN</td>\n",
       "      <td>NaN</td>\n",
       "      <td>NaN</td>\n",
       "    </tr>\n",
       "    <tr>\n",
       "      <th>row_d</th>\n",
       "      <td>NaN</td>\n",
       "      <td>0.6</td>\n",
       "      <td>NaN</td>\n",
       "    </tr>\n",
       "    <tr>\n",
       "      <th>row_e</th>\n",
       "      <td>NaN</td>\n",
       "      <td>0.7</td>\n",
       "      <td>NaN</td>\n",
       "    </tr>\n",
       "    <tr>\n",
       "      <th>row_f</th>\n",
       "      <td>NaN</td>\n",
       "      <td>0.8</td>\n",
       "      <td>NaN</td>\n",
       "    </tr>\n",
       "  </tbody>\n",
       "</table>\n",
       "</div>"
      ],
      "text/plain": [
       "       Col_A  Col_B  Col_C\n",
       "row_a    NaN    NaN    NaN\n",
       "row_b    NaN    NaN    NaN\n",
       "row_c    NaN    NaN    NaN\n",
       "row_d    NaN    0.6    NaN\n",
       "row_e    NaN    0.7    NaN\n",
       "row_f    NaN    0.8    NaN"
      ]
     },
     "execution_count": 92,
     "metadata": {},
     "output_type": "execute_result"
    }
   ],
   "source": [
    "df1[(df1>0.5) & (df1<1)]"
   ]
  },
  {
   "cell_type": "code",
   "execution_count": 93,
   "id": "64c54232",
   "metadata": {},
   "outputs": [
    {
     "data": {
      "text/html": [
       "<div>\n",
       "<style scoped>\n",
       "    .dataframe tbody tr th:only-of-type {\n",
       "        vertical-align: middle;\n",
       "    }\n",
       "\n",
       "    .dataframe tbody tr th {\n",
       "        vertical-align: top;\n",
       "    }\n",
       "\n",
       "    .dataframe thead th {\n",
       "        text-align: right;\n",
       "    }\n",
       "</style>\n",
       "<table border=\"1\" class=\"dataframe\">\n",
       "  <thead>\n",
       "    <tr style=\"text-align: right;\">\n",
       "      <th></th>\n",
       "      <th>지점</th>\n",
       "      <th>1월</th>\n",
       "      <th>2월</th>\n",
       "      <th>3월</th>\n",
       "    </tr>\n",
       "  </thead>\n",
       "  <tbody>\n",
       "    <tr>\n",
       "      <th>0</th>\n",
       "      <td>서울</td>\n",
       "      <td>558</td>\n",
       "      <td>437</td>\n",
       "      <td>337</td>\n",
       "    </tr>\n",
       "    <tr>\n",
       "      <th>1</th>\n",
       "      <td>대전</td>\n",
       "      <td>234</td>\n",
       "      <td>216</td>\n",
       "      <td>196</td>\n",
       "    </tr>\n",
       "    <tr>\n",
       "      <th>2</th>\n",
       "      <td>대구</td>\n",
       "      <td>340</td>\n",
       "      <td>238</td>\n",
       "      <td>209</td>\n",
       "    </tr>\n",
       "    <tr>\n",
       "      <th>3</th>\n",
       "      <td>부산</td>\n",
       "      <td>380</td>\n",
       "      <td>290</td>\n",
       "      <td>272</td>\n",
       "    </tr>\n",
       "    <tr>\n",
       "      <th>4</th>\n",
       "      <td>광주</td>\n",
       "      <td>213</td>\n",
       "      <td>194</td>\n",
       "      <td>186</td>\n",
       "    </tr>\n",
       "  </tbody>\n",
       "</table>\n",
       "</div>"
      ],
      "text/plain": [
       "   지점   1월   2월   3월\n",
       "0  서울  558  437  337\n",
       "1  대전  234  216  196\n",
       "2  대구  340  238  209\n",
       "3  부산  380  290  272\n",
       "4  광주  213  194  186"
      ]
     },
     "execution_count": 93,
     "metadata": {},
     "output_type": "execute_result"
    }
   ],
   "source": [
    "# DataFrame 데이터 생성\n",
    "dict_data = {'지점': ['서울', '대전', '대구', '부산', '광주'],\n",
    "             '1월': [558, 234, 340, 380, 213],\n",
    "             '2월': [437, 216, 238, 290, 194], \n",
    "             '3월': [337, 196, 209, 272, 186]} # 딕셔너리 데이터\n",
    "\n",
    "df = pd.DataFrame(dict_data) # 딕셔너리 데이터로부터 DataFrame 데이터 생성\n",
    "df"
   ]
  },
  {
   "cell_type": "code",
   "execution_count": 94,
   "id": "9f1c616d",
   "metadata": {},
   "outputs": [],
   "source": [
    "s= pd.Series(range(-3,0))"
   ]
  },
  {
   "cell_type": "code",
   "execution_count": null,
   "id": "50fa9509",
   "metadata": {},
   "outputs": [],
   "source": []
  },
  {
   "cell_type": "code",
   "execution_count": null,
   "id": "2b9566a5",
   "metadata": {},
   "outputs": [],
   "source": []
  },
  {
   "cell_type": "code",
   "execution_count": null,
   "id": "0ddffe4c",
   "metadata": {},
   "outputs": [],
   "source": []
  },
  {
   "cell_type": "code",
   "execution_count": null,
   "id": "acfc70b4",
   "metadata": {},
   "outputs": [],
   "source": []
  },
  {
   "cell_type": "code",
   "execution_count": null,
   "id": "6bf95639",
   "metadata": {},
   "outputs": [],
   "source": []
  },
  {
   "cell_type": "code",
   "execution_count": null,
   "id": "4107c714",
   "metadata": {},
   "outputs": [],
   "source": []
  },
  {
   "cell_type": "code",
   "execution_count": null,
   "id": "79b5ded7",
   "metadata": {},
   "outputs": [],
   "source": []
  },
  {
   "cell_type": "code",
   "execution_count": null,
   "id": "a81dcde1",
   "metadata": {},
   "outputs": [],
   "source": []
  },
  {
   "cell_type": "code",
   "execution_count": null,
   "id": "f8731638",
   "metadata": {},
   "outputs": [],
   "source": []
  },
  {
   "cell_type": "code",
   "execution_count": null,
   "id": "c06ec90c",
   "metadata": {},
   "outputs": [],
   "source": []
  },
  {
   "cell_type": "code",
   "execution_count": null,
   "id": "047c8d00",
   "metadata": {},
   "outputs": [],
   "source": []
  },
  {
   "cell_type": "code",
   "execution_count": null,
   "id": "a673a692",
   "metadata": {},
   "outputs": [],
   "source": []
  },
  {
   "cell_type": "code",
   "execution_count": null,
   "id": "f9c1f229",
   "metadata": {},
   "outputs": [],
   "source": []
  },
  {
   "cell_type": "code",
   "execution_count": null,
   "id": "fa904962",
   "metadata": {},
   "outputs": [],
   "source": []
  },
  {
   "cell_type": "code",
   "execution_count": null,
   "id": "87130335",
   "metadata": {},
   "outputs": [],
   "source": []
  }
 ],
 "metadata": {
  "kernelspec": {
   "display_name": "Python 3 (ipykernel)",
   "language": "python",
   "name": "python3"
  },
  "language_info": {
   "codemirror_mode": {
    "name": "ipython",
    "version": 3
   },
   "file_extension": ".py",
   "mimetype": "text/x-python",
   "name": "python",
   "nbconvert_exporter": "python",
   "pygments_lexer": "ipython3",
   "version": "3.10.12"
  }
 },
 "nbformat": 4,
 "nbformat_minor": 5
}
