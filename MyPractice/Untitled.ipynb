{
 "cells": [
  {
   "cell_type": "code",
   "execution_count": 2,
   "id": "74ae56bc-b791-4da7-bfa4-4a165df3d4d1",
   "metadata": {
    "tags": []
   },
   "outputs": [],
   "source": [
    "import numpy as np"
   ]
  },
  {
   "cell_type": "code",
   "execution_count": 10,
   "id": "8843c53f-fe59-4bcd-a558-faeee95e1d08",
   "metadata": {
    "tags": []
   },
   "outputs": [
    {
     "data": {
      "text/plain": [
       "list"
      ]
     },
     "execution_count": 10,
     "metadata": {},
     "output_type": "execute_result"
    }
   ],
   "source": [
    "list_data = [0,1,2,3,4,5,6,7,8,9.0]\n",
    "type(list_data)\n"
   ]
  },
  {
   "cell_type": "code",
   "execution_count": 9,
   "id": "6d1fe324-7197-4ab6-b8c2-d3c414b1e859",
   "metadata": {
    "tags": []
   },
   "outputs": [
    {
     "data": {
      "text/plain": [
       "numpy.ndarray"
      ]
     },
     "execution_count": 9,
     "metadata": {},
     "output_type": "execute_result"
    }
   ],
   "source": [
    "a1 = np.array(list_data)\n",
    "type(a1)\n",
    "#리스트 를 Array 모 만들어줌 "
   ]
  },
  {
   "cell_type": "code",
   "execution_count": 8,
   "id": "aaf21f0c-03d1-427d-a1a1-3f3a003757e7",
   "metadata": {
    "tags": []
   },
   "outputs": [
    {
     "data": {
      "text/plain": [
       "array([0., 1., 2., 3., 4., 5., 6., 7., 8., 9.])"
      ]
     },
     "execution_count": 8,
     "metadata": {},
     "output_type": "execute_result"
    }
   ],
   "source": [
    "a1"
   ]
  },
  {
   "cell_type": "code",
   "execution_count": null,
   "id": "67fff98c-2733-41b8-8219-f892a2cc227b",
   "metadata": {},
   "outputs": [],
   "source": []
  }
 ],
 "metadata": {
  "kernelspec": {
   "display_name": "Python 3 (ipykernel)",
   "language": "python",
   "name": "python3"
  },
  "language_info": {
   "codemirror_mode": {
    "name": "ipython",
    "version": 3
   },
   "file_extension": ".py",
   "mimetype": "text/x-python",
   "name": "python",
   "nbconvert_exporter": "python",
   "pygments_lexer": "ipython3",
   "version": "3.11.5"
  }
 },
 "nbformat": 4,
 "nbformat_minor": 5
}
