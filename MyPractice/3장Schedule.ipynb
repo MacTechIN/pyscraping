{
 "cells": [
  {
   "cell_type": "code",
   "execution_count": 1,
   "id": "4a339aff-61ed-40b8-9cb3-c2e7c3e0a52c",
   "metadata": {
    "tags": []
   },
   "outputs": [],
   "source": [
    "import schedule\n",
    "import time"
   ]
  },
  {
   "cell_type": "code",
   "execution_count": null,
   "id": "fffbd584-2cbf-43d4-bc76-d7f4c3cf66f0",
   "metadata": {},
   "outputs": [],
   "source": [
    "schedule.every(2).seconds.do(job)"
   ]
  },
  {
   "cell_type": "code",
   "execution_count": null,
   "id": "d3637f9c-3a64-40d8-bda6-5cdce3e4d76c",
   "metadata": {},
   "outputs": [],
   "source": []
  }
 ],
 "metadata": {
  "kernelspec": {
   "display_name": "Python 3 (ipykernel)",
   "language": "python",
   "name": "python3"
  },
  "language_info": {
   "codemirror_mode": {
    "name": "ipython",
    "version": 3
   },
   "file_extension": ".py",
   "mimetype": "text/x-python",
   "name": "python",
   "nbconvert_exporter": "python",
   "pygments_lexer": "ipython3",
   "version": "3.11.5"
  }
 },
 "nbformat": 4,
 "nbformat_minor": 5
}
