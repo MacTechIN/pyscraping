{
 "cells": [
  {
   "cell_type": "code",
   "execution_count": 1,
   "id": "de062c4e-ee9a-4227-936d-5c4fe1dc208d",
   "metadata": {
    "tags": []
   },
   "outputs": [],
   "source": [
    "# join\n",
    "\n",
    "list = [\"서울시\", \"서초구\",\"반포대로\",\"201(반포동)\"]\n"
   ]
  },
  {
   "cell_type": "code",
   "execution_count": 4,
   "id": "848482cf-57f6-4089-9f8a-4aebb7ca163d",
   "metadata": {
    "tags": []
   },
   "outputs": [
    {
     "name": "stdout",
     "output_type": "stream",
     "text": [
      "서울시***서초구***반포대로***201(반포동)\n"
     ]
    },
    {
     "data": {
      "text/plain": [
       "str"
      ]
     },
     "execution_count": 4,
     "metadata": {},
     "output_type": "execute_result"
    }
   ],
   "source": [
    "join_result = \"***\".join(list)\n",
    "print(join_result)\n",
    "type(join_result)"
   ]
  },
  {
   "cell_type": "code",
   "execution_count": 6,
   "id": "a94c6b74-a1eb-423f-98c8-59ddc7ddae07",
   "metadata": {
    "tags": []
   },
   "outputs": [],
   "source": [
    "#문자열 찾기 : find(), count(), startwith(), endswith()\n",
    "\n",
    "str_p = \"Python is powerful. Python is easy\""
   ]
  },
  {
   "cell_type": "code",
   "execution_count": 7,
   "id": "e75bf40b-df94-4830-bd0e-329551825c90",
   "metadata": {
    "tags": []
   },
   "outputs": [
    {
     "name": "stdout",
     "output_type": "stream",
     "text": [
      "0\n"
     ]
    }
   ],
   "source": [
    "print(str_p.find(\"Python\"))"
   ]
  },
  {
   "cell_type": "code",
   "execution_count": 8,
   "id": "c7d96dc9-35ec-479f-9f48-60e5b6b6c58a",
   "metadata": {
    "tags": []
   },
   "outputs": [
    {
     "name": "stdout",
     "output_type": "stream",
     "text": [
      "20\n"
     ]
    }
   ],
   "source": [
    "print(str_p.find(\"Python\", 10, 30))"
   ]
  },
  {
   "cell_type": "code",
   "execution_count": 10,
   "id": "888472e9-6765-4268-82d1-c023b0cf66e6",
   "metadata": {
    "tags": []
   },
   "outputs": [
    {
     "name": "stdout",
     "output_type": "stream",
     "text": [
      "30\n"
     ]
    }
   ],
   "source": [
    "print(str_p.find(\"easy\"))"
   ]
  },
  {
   "cell_type": "code",
   "execution_count": null,
   "id": "239a73ac-091a-4140-9ec1-dbce12b976ea",
   "metadata": {},
   "outputs": [],
   "source": []
  }
 ],
 "metadata": {
  "kernelspec": {
   "display_name": "Python 3 (ipykernel)",
   "language": "python",
   "name": "python3"
  },
  "language_info": {
   "codemirror_mode": {
    "name": "ipython",
    "version": 3
   },
   "file_extension": ".py",
   "mimetype": "text/x-python",
   "name": "python",
   "nbconvert_exporter": "python",
   "pygments_lexer": "ipython3",
   "version": "3.11.5"
  }
 },
 "nbformat": 4,
 "nbformat_minor": 5
}
