{
 "cells": [
  {
   "cell_type": "code",
   "execution_count": 2,
   "id": "74ae56bc-b791-4da7-bfa4-4a165df3d4d1",
   "metadata": {
    "tags": []
   },
   "outputs": [],
   "source": [
    "import numpy as np"
   ]
  },
  {
   "cell_type": "code",
   "execution_count": 10,
   "id": "8843c53f-fe59-4bcd-a558-faeee95e1d08",
   "metadata": {
    "tags": []
   },
   "outputs": [
    {
     "data": {
      "text/plain": [
       "list"
      ]
     },
     "execution_count": 10,
     "metadata": {},
     "output_type": "execute_result"
    }
   ],
   "source": [
    "list_data = [0,1,2,3,4,5,6,7,8,9.0]\n",
    "type(list_data)\n"
   ]
  },
  {
   "cell_type": "code",
   "execution_count": 14,
   "id": "6d1fe324-7197-4ab6-b8c2-d3c414b1e859",
   "metadata": {
    "tags": []
   },
   "outputs": [],
   "source": [
    "a1 = np.array(list_data)\n",
    "\n",
    "#리스트 를 Array 모 만들어줌 "
   ]
  },
  {
   "cell_type": "code",
   "execution_count": 16,
   "id": "aaf21f0c-03d1-427d-a1a1-3f3a003757e7",
   "metadata": {
    "tags": []
   },
   "outputs": [
    {
     "name": "stdout",
     "output_type": "stream",
     "text": [
      "[0. 1. 2. 3. 4. 5. 6. 7. 8. 9.]\n"
     ]
    },
    {
     "data": {
      "text/plain": [
       "numpy.ndarray"
      ]
     },
     "execution_count": 16,
     "metadata": {},
     "output_type": "execute_result"
    }
   ],
   "source": [
    "print(a1)\n",
    "type(a1)"
   ]
  },
  {
   "cell_type": "code",
   "execution_count": 31,
   "id": "67fff98c-2733-41b8-8219-f892a2cc227b",
   "metadata": {
    "tags": []
   },
   "outputs": [
    {
     "data": {
      "text/plain": [
       "[0.0, 3.0, 4.0]"
      ]
     },
     "execution_count": 31,
     "metadata": {},
     "output_type": "execute_result"
    }
   ],
   "source": [
    "list_2 = [a1[0],a1[3],a1[4]]\n",
    "\n",
    "list_2 #안된다. "
   ]
  },
  {
   "cell_type": "code",
   "execution_count": 33,
   "id": "94b5d43b-f29d-4b1d-9921-17a0d35a84d7",
   "metadata": {
    "tags": []
   },
   "outputs": [
    {
     "data": {
      "text/plain": [
       "array([40,  0, 50, 50, 40])"
      ]
     },
     "execution_count": 33,
     "metadata": {},
     "output_type": "execute_result"
    }
   ],
   "source": [
    "#여러개의 요소를 가지고 오기 \n",
    "\n",
    "a2 = np.array([0,10,20,30,40,50])\n",
    "\n",
    "a2[[4,0,5,-1,-2]]\n"
   ]
  },
  {
   "cell_type": "code",
   "execution_count": 36,
   "id": "79c1d68f-7261-41cc-b1d1-4b5fe7ca08a6",
   "metadata": {
    "tags": []
   },
   "outputs": [],
   "source": [
    "list_3 = a1[[0,3,4]]"
   ]
  },
  {
   "cell_type": "code",
   "execution_count": 38,
   "id": "932278d4-9fdc-4e18-9c2f-a7e636f218e4",
   "metadata": {
    "tags": []
   },
   "outputs": [
    {
     "name": "stdout",
     "output_type": "stream",
     "text": [
      "[0. 3. 4.]\n"
     ]
    }
   ],
   "source": [
    "print(list_3) #위에 각각의 인덱스를 사용하는 것도 동일한 결과임. \n"
   ]
  },
  {
   "cell_type": "code",
   "execution_count": 39,
   "id": "ce362368-8254-4ae0-ab57-2ecd7ec64395",
   "metadata": {
    "tags": []
   },
   "outputs": [],
   "source": [
    "a3 = np.arange(10)"
   ]
  },
  {
   "cell_type": "code",
   "execution_count": 40,
   "id": "0a6a22d1-9740-4014-86f1-3fa8edae1f36",
   "metadata": {
    "tags": []
   },
   "outputs": [
    {
     "name": "stdout",
     "output_type": "stream",
     "text": [
      "[0 1 2 3 4 5 6 7 8 9]\n"
     ]
    }
   ],
   "source": [
    "print(a)"
   ]
  },
  {
   "cell_type": "code",
   "execution_count": 41,
   "id": "283e9d88-ae39-434a-80f9-2c52eaebea0b",
   "metadata": {
    "tags": []
   },
   "outputs": [
    {
     "data": {
      "text/plain": [
       "array([5, 6, 7, 8, 9])"
      ]
     },
     "execution_count": 41,
     "metadata": {},
     "output_type": "execute_result"
    }
   ],
   "source": [
    "a[a>=5] #인덱스 대신 조건 condition 을 넣을수 있다. "
   ]
  },
  {
   "cell_type": "code",
   "execution_count": null,
   "id": "667d8c1c-0d1f-41bb-a545-3f0aaa45bb22",
   "metadata": {},
   "outputs": [],
   "source": []
  }
 ],
 "metadata": {
  "kernelspec": {
   "display_name": "Python 3 (ipykernel)",
   "language": "python",
   "name": "python3"
  },
  "language_info": {
   "codemirror_mode": {
    "name": "ipython",
    "version": 3
   },
   "file_extension": ".py",
   "mimetype": "text/x-python",
   "name": "python",
   "nbconvert_exporter": "python",
   "pygments_lexer": "ipython3",
   "version": "3.11.5"
  }
 },
 "nbformat": 4,
 "nbformat_minor": 5
}
