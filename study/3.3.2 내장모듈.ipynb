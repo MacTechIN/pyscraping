{
 "cells": [
  {
   "cell_type": "markdown",
   "id": "8f05746e",
   "metadata": {},
   "source": [
    "## 01. 화일 경로 처리 "
   ]
  },
  {
   "cell_type": "code",
   "execution_count": 2,
   "id": "4f761ccf",
   "metadata": {},
   "outputs": [],
   "source": [
    "#Python 내장 모듈 path에 대해 \n",
    "\n",
    "from pathlib import Path\n",
    "\n",
    "path = Path(\"/Users/sl/Workspace/MLDS/pyscraping\")"
   ]
  },
  {
   "cell_type": "code",
   "execution_count": 4,
   "id": "6d74e4e8",
   "metadata": {},
   "outputs": [
    {
     "name": "stdout",
     "output_type": "stream",
     "text": [
      "<class 'pathlib.PosixPath'>\n"
     ]
    }
   ],
   "source": [
    "print(type(path))"
   ]
  },
  {
   "cell_type": "code",
   "execution_count": 5,
   "id": "ed1a338d",
   "metadata": {},
   "outputs": [
    {
     "data": {
      "text/plain": [
       "PosixPath('/Users/sl/Workspace/MLDS/pyscraping')"
      ]
     },
     "execution_count": 5,
     "metadata": {},
     "output_type": "execute_result"
    }
   ],
   "source": [
    "path"
   ]
  },
  {
   "cell_type": "code",
   "execution_count": 6,
   "id": "5d8d7405",
   "metadata": {},
   "outputs": [
    {
     "data": {
      "text/plain": [
       "PosixPath('/Users/sl/Workspace/MLDS')"
      ]
     },
     "execution_count": 6,
     "metadata": {},
     "output_type": "execute_result"
    }
   ],
   "source": [
    "path.parent"
   ]
  },
  {
   "cell_type": "code",
   "execution_count": 7,
   "id": "0b6be9fd",
   "metadata": {},
   "outputs": [
    {
     "data": {
      "text/plain": [
       "'pyscraping'"
      ]
     },
     "execution_count": 7,
     "metadata": {},
     "output_type": "execute_result"
    }
   ],
   "source": [
    "path.name"
   ]
  },
  {
   "cell_type": "code",
   "execution_count": 9,
   "id": "31eabb0b",
   "metadata": {},
   "outputs": [
    {
     "data": {
      "text/plain": [
       "''"
      ]
     },
     "execution_count": 9,
     "metadata": {},
     "output_type": "execute_result"
    }
   ],
   "source": [
    "path.suffix"
   ]
  },
  {
   "cell_type": "code",
   "execution_count": 10,
   "id": "60a63067",
   "metadata": {},
   "outputs": [
    {
     "data": {
      "text/plain": [
       "'pyscraping'"
      ]
     },
     "execution_count": 10,
     "metadata": {},
     "output_type": "execute_result"
    }
   ],
   "source": [
    "path.stem"
   ]
  },
  {
   "cell_type": "raw",
   "id": "f366a5c3",
   "metadata": {},
   "source": [
    "/Users/sl/Workspace/MLDS/pyscraping/code"
   ]
  },
  {
   "cell_type": "code",
   "execution_count": 15,
   "id": "8ff0e5a9",
   "metadata": {},
   "outputs": [],
   "source": [
    "file_path = Path('/Users/sl/Workspace/MLDS/pyscraping/code/car.py')"
   ]
  },
  {
   "cell_type": "code",
   "execution_count": 16,
   "id": "122beb96",
   "metadata": {},
   "outputs": [
    {
     "name": "stdout",
     "output_type": "stream",
     "text": [
      "- 파일의 전체 경로 :  /Users/sl/Workspace/MLDS/pyscraping/code/car.py\n",
      "- 파일의 디렉터리  :  /Users/sl/Workspace/MLDS/pyscraping/code\n",
      "- 파일명 :  car.py\n",
      "- 파일의 확장자 :  .py\n",
      "- 확장자 제외한 파일명 :  car\n"
     ]
    }
   ],
   "source": [
    "print(\"- 파일의 전체 경로 : \", file_path)\n",
    "print(\"- 파일의 디렉터리  : \", file_path.parent)\n",
    "print(\"- 파일명 : \", file_path.name)\n",
    "print(\"- 파일의 확장자 : \", file_path.suffix)\n",
    "print(\"- 확장자 제외한 파일명 : \", file_path.stem)"
   ]
  },
  {
   "cell_type": "code",
   "execution_count": 20,
   "id": "af8ce11b",
   "metadata": {},
   "outputs": [],
   "source": [
    "dir_path = Path('/Users/sl/Workspace/MLDS/pyscraping/code')"
   ]
  },
  {
   "cell_type": "code",
   "execution_count": 25,
   "id": "fa6a8a92",
   "metadata": {},
   "outputs": [
    {
     "name": "stdout",
     "output_type": "stream",
     "text": [
      "- 지정 경로 :  /Users/sl/Workspace/MLDS/pyscraping/code\n",
      "- 경로가 파일이 있는지 확인 :  True\n",
      "- 경로가 디렉토리인지 확인 :  True\n",
      "- 경로가 파일인지 확인 :  False\n",
      "- 홈 디렉토리 인지 :  /Users/sl\n"
     ]
    }
   ],
   "source": [
    "print(\"- 지정 경로 : \", file_path)\n",
    "print(\"- 경로가 파일이 있는지 확인 : \", file_path.exists())\n",
    "print(\"- 경로가 디렉토리인지 확인 : \", file_path.is_dir())\n",
    "print(\"- 경로가 파일인지 확인 : \", file_path.is_file())\n",
    "print(\"- 홈 디렉토리 인지 : \" , dir_path.home())"
   ]
  },
  {
   "cell_type": "markdown",
   "id": "c16ccb52",
   "metadata": {},
   "source": [
    "## 02.날짜 시간 처리 모듈 "
   ]
  },
  {
   "cell_type": "code",
   "execution_count": 26,
   "id": "0e04a059",
   "metadata": {},
   "outputs": [],
   "source": [
    "from datetime import date, time, datetime, timedelta "
   ]
  },
  {
   "cell_type": "code",
   "execution_count": 28,
   "id": "484c27a0",
   "metadata": {},
   "outputs": [],
   "source": [
    "date_obj= date(2023, 10, 1)"
   ]
  },
  {
   "cell_type": "code",
   "execution_count": 29,
   "id": "e59d6606",
   "metadata": {},
   "outputs": [],
   "source": [
    "time_obj= time(17, 10, 30)"
   ]
  },
  {
   "cell_type": "code",
   "execution_count": 30,
   "id": "efddb25d",
   "metadata": {},
   "outputs": [],
   "source": [
    "datetime_obj = datetime(2021, 8,15, 20,19, 45)"
   ]
  },
  {
   "cell_type": "code",
   "execution_count": 34,
   "id": "c09d2e33",
   "metadata": {},
   "outputs": [
    {
     "name": "stdout",
     "output_type": "stream",
     "text": [
      "[date class : date] 2023-10-01\n",
      "[date class : date] 2023/10/1]\n"
     ]
    }
   ],
   "source": [
    "print(\"[date class : date]\", date_obj)\n",
    "print(\"[date class : date] {0}/{1}/{2}]\".format(date_obj.year, date_obj.month, date_obj.day))\n"
   ]
  },
  {
   "cell_type": "code",
   "execution_count": 35,
   "id": "579e904e",
   "metadata": {},
   "outputs": [
    {
     "name": "stdout",
     "output_type": "stream",
     "text": [
      "2023-10-01\n"
     ]
    }
   ],
   "source": [
    "print(date_obj)"
   ]
  },
  {
   "cell_type": "code",
   "execution_count": 36,
   "id": "02b73b69",
   "metadata": {},
   "outputs": [
    {
     "name": "stdout",
     "output_type": "stream",
     "text": [
      "17:10:30\n"
     ]
    }
   ],
   "source": [
    "print(time_obj)"
   ]
  },
  {
   "cell_type": "code",
   "execution_count": 37,
   "id": "1aebfbdb",
   "metadata": {},
   "outputs": [
    {
     "name": "stdout",
     "output_type": "stream",
     "text": [
      "2021-08-15 20:19:45\n"
     ]
    }
   ],
   "source": [
    "print(datetime_obj)"
   ]
  },
  {
   "cell_type": "code",
   "execution_count": 38,
   "id": "3f24488e",
   "metadata": {},
   "outputs": [],
   "source": [
    "date_obj2 = date(2020,10,15)"
   ]
  },
  {
   "cell_type": "code",
   "execution_count": 39,
   "id": "889557aa",
   "metadata": {},
   "outputs": [],
   "source": [
    "diff_dates = date_obj - date_obj2"
   ]
  },
  {
   "cell_type": "code",
   "execution_count": 40,
   "id": "30a34816",
   "metadata": {},
   "outputs": [
    {
     "name": "stdout",
     "output_type": "stream",
     "text": [
      "1081 days, 0:00:00\n"
     ]
    }
   ],
   "source": [
    "print(diff_dates)"
   ]
  },
  {
   "cell_type": "markdown",
   "id": "de81951a",
   "metadata": {},
   "source": [
    "## 스케줄러 패키지 "
   ]
  },
  {
   "cell_type": "code",
   "execution_count": null,
   "id": "0f342488",
   "metadata": {},
   "outputs": [],
   "source": []
  }
 ],
 "metadata": {
  "kernelspec": {
   "display_name": "Python 3 (ipykernel)",
   "language": "python",
   "name": "python3"
  },
  "language_info": {
   "codemirror_mode": {
    "name": "ipython",
    "version": 3
   },
   "file_extension": ".py",
   "mimetype": "text/x-python",
   "name": "python",
   "nbconvert_exporter": "python",
   "pygments_lexer": "ipython3",
   "version": "3.11.5"
  }
 },
 "nbformat": 4,
 "nbformat_minor": 5
}
