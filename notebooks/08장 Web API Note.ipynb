{
 "cells": [
  {
   "cell_type": "code",
   "execution_count": 33,
   "id": "0e360bec",
   "metadata": {},
   "outputs": [],
   "source": [
    "import json \n",
    "\n",
    "python_dict = {\n",
    "    \"이름\" : \"홍길동\",\n",
    "    \"나이\" : 25, \n",
    "    \"거주지\" : \"서울\",\n",
    "    \"신체정보\" : {\n",
    "        \"키\" : 175,\n",
    "        \"몸무게\" : 71.2\n",
    "    },\n",
    "    \"취미\": [ \"등산\", \"자전거타기\", \"독서\"]\n",
    "}\n",
    "\n"
   ]
  },
  {
   "cell_type": "code",
   "execution_count": 34,
   "id": "34bf94cd",
   "metadata": {},
   "outputs": [
    {
     "name": "stdout",
     "output_type": "stream",
     "text": [
      "<class 'dict'>\n"
     ]
    }
   ],
   "source": [
    "print(type(python_dict))"
   ]
  },
  {
   "cell_type": "code",
   "execution_count": 35,
   "id": "92131ec2",
   "metadata": {},
   "outputs": [],
   "source": [
    "json_data = json.dumps(python_dict)"
   ]
  },
  {
   "cell_type": "code",
   "execution_count": 36,
   "id": "92f78cd1",
   "metadata": {},
   "outputs": [
    {
     "data": {
      "text/plain": [
       "str"
      ]
     },
     "execution_count": 36,
     "metadata": {},
     "output_type": "execute_result"
    }
   ],
   "source": [
    "type(json_data)"
   ]
  },
  {
   "cell_type": "code",
   "execution_count": 37,
   "id": "588bbeeb",
   "metadata": {},
   "outputs": [
    {
     "name": "stdout",
     "output_type": "stream",
     "text": [
      "{\"\\uc774\\ub984\": \"\\ud64d\\uae38\\ub3d9\", \"\\ub098\\uc774\": 25, \"\\uac70\\uc8fc\\uc9c0\": \"\\uc11c\\uc6b8\", \"\\uc2e0\\uccb4\\uc815\\ubcf4\": {\"\\ud0a4\": 175, \"\\ubab8\\ubb34\\uac8c\": 71.2}, \"\\ucde8\\ubbf8\": [\"\\ub4f1\\uc0b0\", \"\\uc790\\uc804\\uac70\\ud0c0\\uae30\", \"\\ub3c5\\uc11c\"]}\n"
     ]
    }
   ],
   "source": [
    "print(json_data)"
   ]
  },
  {
   "cell_type": "code",
   "execution_count": 38,
   "id": "ee2f5440",
   "metadata": {},
   "outputs": [],
   "source": [
    "json_data = json.dumps(python_dict, indent= 4, sort_keys= True, ensure_ascii=False)"
   ]
  },
  {
   "cell_type": "code",
   "execution_count": 39,
   "id": "62bfaf63",
   "metadata": {},
   "outputs": [
    {
     "ename": "TypeError",
     "evalue": "string indices must be integers",
     "output_type": "error",
     "traceback": [
      "\u001b[0;31m---------------------------------------------------------------------------\u001b[0m",
      "\u001b[0;31mTypeError\u001b[0m                                 Traceback (most recent call last)",
      "Cell \u001b[0;32mIn[39], line 1\u001b[0m\n\u001b[0;32m----> 1\u001b[0m \u001b[43mjson_data\u001b[49m\u001b[43m[\u001b[49m\u001b[38;5;124;43m\"\u001b[39;49m\u001b[38;5;124;43m이름\u001b[39;49m\u001b[38;5;124;43m\"\u001b[39;49m\u001b[43m]\u001b[49m\n",
      "\u001b[0;31mTypeError\u001b[0m: string indices must be integers"
     ]
    }
   ],
   "source": [
    "json_data[\"이름\"]"
   ]
  },
  {
   "cell_type": "code",
   "execution_count": 40,
   "id": "896bd001",
   "metadata": {},
   "outputs": [
    {
     "name": "stdout",
     "output_type": "stream",
     "text": [
      "{\n",
      "    \"거주지\": \"서울\",\n",
      "    \"나이\": 25,\n",
      "    \"신체정보\": {\n",
      "        \"몸무게\": 71.2,\n",
      "        \"키\": 175\n",
      "    },\n",
      "    \"이름\": \"홍길동\",\n",
      "    \"취미\": [\n",
      "        \"등산\",\n",
      "        \"자전거타기\",\n",
      "        \"독서\"\n",
      "    ]\n",
      "}\n"
     ]
    }
   ],
   "source": [
    "print(json_data)"
   ]
  },
  {
   "cell_type": "code",
   "execution_count": 41,
   "id": "74d03891",
   "metadata": {},
   "outputs": [
    {
     "data": {
      "text/plain": [
       "dict"
      ]
     },
     "execution_count": 41,
     "metadata": {},
     "output_type": "execute_result"
    }
   ],
   "source": [
    "type(python_dict)"
   ]
  },
  {
   "cell_type": "code",
   "execution_count": 42,
   "id": "73fea48f",
   "metadata": {},
   "outputs": [
    {
     "name": "stdout",
     "output_type": "stream",
     "text": [
      "{'이름': '홍길동', '나이': 25, '거주지': '서울', '신체정보': {'키': 175, '몸무게': 71.2}, '취미': ['등산', '자전거타기', '독서']}\n"
     ]
    }
   ],
   "source": [
    "print(python_dict)"
   ]
  },
  {
   "cell_type": "code",
   "execution_count": 43,
   "id": "b45ae1b7",
   "metadata": {},
   "outputs": [
    {
     "data": {
      "text/plain": [
       "dict"
      ]
     },
     "execution_count": 43,
     "metadata": {},
     "output_type": "execute_result"
    }
   ],
   "source": [
    "dict_data = json.loads(json_data) # JSON 데이터를 파이썬의 딕셔너리 타입으로 변환\n",
    "type(dict_data)"
   ]
  },
  {
   "cell_type": "code",
   "execution_count": 15,
   "id": "2eebe977",
   "metadata": {},
   "outputs": [
    {
     "data": {
      "text/plain": [
       "'홍길동'"
      ]
     },
     "execution_count": 15,
     "metadata": {},
     "output_type": "execute_result"
    }
   ],
   "source": [
    "dict_data[\"이름\"] # Key 값으로 검색 "
   ]
  },
  {
   "cell_type": "code",
   "execution_count": 23,
   "id": "5baf69b6",
   "metadata": {},
   "outputs": [
    {
     "data": {
      "text/plain": [
       "71.2"
      ]
     },
     "execution_count": 23,
     "metadata": {},
     "output_type": "execute_result"
    }
   ],
   "source": [
    "dict_data['신체정보']['몸무게']  #  Key로 검색 가능 "
   ]
  },
  {
   "cell_type": "code",
   "execution_count": 25,
   "id": "0f5f2874",
   "metadata": {},
   "outputs": [
    {
     "data": {
      "text/plain": [
       "175"
      ]
     },
     "execution_count": 25,
     "metadata": {},
     "output_type": "execute_result"
    }
   ],
   "source": [
    "dict_data['신체정보']['키']"
   ]
  },
  {
   "cell_type": "code",
   "execution_count": 18,
   "id": "169f5762",
   "metadata": {},
   "outputs": [
    {
     "data": {
      "text/plain": [
       "['등산', '자전거타기', ' 독서']"
      ]
     },
     "execution_count": 18,
     "metadata": {},
     "output_type": "execute_result"
    }
   ],
   "source": [
    "dict_data['취미']"
   ]
  },
  {
   "cell_type": "code",
   "execution_count": 19,
   "id": "86151b8d",
   "metadata": {},
   "outputs": [
    {
     "data": {
      "text/plain": [
       "'등산'"
      ]
     },
     "execution_count": 19,
     "metadata": {},
     "output_type": "execute_result"
    }
   ],
   "source": [
    "dict_data['취미'][0]"
   ]
  },
  {
   "cell_type": "code",
   "execution_count": 26,
   "id": "1eb0326b",
   "metadata": {},
   "outputs": [
    {
     "data": {
      "text/plain": [
       "['등산', '자전거타기', ' 독서']"
      ]
     },
     "execution_count": 26,
     "metadata": {},
     "output_type": "execute_result"
    }
   ],
   "source": [
    "#'취미'의 값은 리스트 \n",
    "dict_data['취미']  # ['등산', '자전거타기', ' 독서']"
   ]
  },
  {
   "cell_type": "code",
   "execution_count": 27,
   "id": "c2293c1b",
   "metadata": {},
   "outputs": [
    {
     "data": {
      "text/plain": [
       "' 독서'"
      ]
     },
     "execution_count": 27,
     "metadata": {},
     "output_type": "execute_result"
    }
   ],
   "source": [
    "dict_data['취미'][0]\n",
    "dict_data['취미'][1]\n",
    "dict_data['취미'][2]"
   ]
  },
  {
   "cell_type": "code",
   "execution_count": 32,
   "id": "08517a49",
   "metadata": {},
   "outputs": [
    {
     "name": "stdout",
     "output_type": "stream",
     "text": [
      "등산\n",
      "자전거타기\n",
      " 독서\n"
     ]
    }
   ],
   "source": [
    "for item in dict_data['취미']:\n",
    "    print(item)\n"
   ]
  },
  {
   "cell_type": "code",
   "execution_count": 47,
   "id": "154723e7",
   "metadata": {},
   "outputs": [],
   "source": [
    "people = {\n",
    "    \"이름\": \"홍길동\",\n",
    "    \"나이\": 30,\n",
    "    \"결혼여부\": False,\n",
    "    \"자녀\": \n",
    "    [    \n",
    "            { \n",
    "                \"이름\": \"홍길순\",\n",
    "                \"나이\": 5 \n",
    "            },\n",
    "        \n",
    "            {\n",
    "                \"이름\": \"홍길철\",\n",
    "                \"나이\": 7\n",
    "            }\n",
    "    ],\n",
    "    취미\": [\"독서\", \"영화\", \"운동\"]\n",
    "}"
   ]
  },
  {
   "cell_type": "code",
   "execution_count": 48,
   "id": "ded1fb98",
   "metadata": {},
   "outputs": [
    {
     "data": {
      "text/plain": [
       "dict"
      ]
     },
     "execution_count": 48,
     "metadata": {},
     "output_type": "execute_result"
    }
   ],
   "source": [
    "type (people)"
   ]
  },
  {
   "cell_type": "code",
   "execution_count": null,
   "id": "5678f009",
   "metadata": {},
   "outputs": [],
   "source": []
  },
  {
   "cell_type": "code",
   "execution_count": null,
   "id": "bf568f3f",
   "metadata": {},
   "outputs": [],
   "source": []
  },
  {
   "cell_type": "code",
   "execution_count": 44,
   "id": "0b5be9f1",
   "metadata": {},
   "outputs": [],
   "source": [
    "# ## 8.2 API 키 없이 시간 관련 데이터 가져오기 \n",
    "\n",
    "# ### 8.2.1 시간대 리스트와 현재 시각 데이터 가져오기\n",
    "\n",
    "# [8장: 345페이지]\n"
   ]
  },
  {
   "cell_type": "code",
   "execution_count": 45,
   "id": "6842df73",
   "metadata": {},
   "outputs": [],
   "source": [
    "import requests\n",
    "import json`"
   ]
  },
  {
   "cell_type": "code",
   "execution_count": 52,
   "id": "846404aa",
   "metadata": {},
   "outputs": [
    {
     "name": "stdout",
     "output_type": "stream",
     "text": [
      "[\"Africa/Abidjan\",\"Africa/Accra\",\"Africa/Addis_Ababa\",\"Africa/Algiers\"\n",
      "<class 'str'>\n"
     ]
    }
   ],
   "source": [
    "url = \"https://timeapi.io/api/TimeZone/AvailableTimeZones\"\n",
    "\n",
    "r = requests.get(url)\n",
    "rt = r.text \n",
    "print(rt[:70])\n",
    "print(type(rt))"
   ]
  },
  {
   "cell_type": "code",
   "execution_count": 65,
   "id": "92bb32d7",
   "metadata": {},
   "outputs": [
    {
     "name": "stdout",
     "output_type": "stream",
     "text": [
      "r2 :  <class 'requests.models.Response'>\n",
      "rt :  <class 'str'>\n",
      "{\"year\":2023,\"month\":9,\"day\":14,\"hour\":11,\"minute\":11,\"seconds\":3,\"milliSeconds\":933,\"dateTime\":\"2023-09-14T11:11:03.9338093\",\"date\":\"09/14/2023\",\"time\":\"11:11\",\"timeZone\":\"Asia/Seoul\",\"dayOfWeek\":\"Thursday\",\"dstActive\":false}\n"
     ]
    }
   ],
   "source": [
    "url2 = \"https://timeapi.io/api/Time/current/zone?timeZone=Asia/Seoul\"\n",
    "\n",
    "r2 = requests.get(url2)\n",
    "print(\"r2 : \", type(r2))\n",
    "rt = r2.text \n",
    "print(\"rt : \", type (rt))\n",
    "print(rt)"
   ]
  },
  {
   "cell_type": "code",
   "execution_count": 59,
   "id": "0e5f4c92",
   "metadata": {},
   "outputs": [
    {
     "name": "stdout",
     "output_type": "stream",
     "text": [
      "{\"year\":2023,\"month\":9,\"day\":14,\"hour\":10,\"minute\":56,\"seconds\":56,\"milliSeconds\":276,\"dateTime\":\"2023-09-14T10:56:56.2761183\",\"date\":\"09/14/2023\",\"time\":\"10:56\",\"timeZone\":\"Asia/Seoul\",\"dayOfWeek\":\"Thursday\",\"dstActive\":false}\n"
     ]
    }
   ],
   "source": [
    "url = \"https://timeapi.io/api/Time/current/zone\"\n",
    "#요청 매개변수 생성 : dict \n",
    "parameters = {\"timeZone\" : \"Asia/Seoul\"}\n",
    "\n",
    "r = requests.get(seoul, params= parameters)\n",
    "print(r.text)"
   ]
  },
  {
   "cell_type": "code",
   "execution_count": 60,
   "id": "e642e124",
   "metadata": {},
   "outputs": [
    {
     "data": {
      "text/plain": [
       "str"
      ]
     },
     "execution_count": 60,
     "metadata": {},
     "output_type": "execute_result"
    }
   ],
   "source": [
    "type(r.text) # return value : str , format "
   ]
  },
  {
   "cell_type": "code",
   "execution_count": 73,
   "id": "62ff4aba",
   "metadata": {},
   "outputs": [],
   "source": [
    "url = \"https://timeapi.io/api/Time/current/zone\" # 요청 주소\n",
    "\n",
    "city = \"Asia/Seoul\"\n",
    "\n",
    "parameters = {\"timeZone\": city }           # 요청 매개 변수 생성\n",
    "\n",
    "r = requests.get(url, params=parameters)"
   ]
  },
  {
   "cell_type": "code",
   "execution_count": 74,
   "id": "14955bc5",
   "metadata": {},
   "outputs": [
    {
     "data": {
      "text/plain": [
       "dict"
      ]
     },
     "execution_count": 74,
     "metadata": {},
     "output_type": "execute_result"
    }
   ],
   "source": [
    "json_to_dict = json.loads(r.text)\n",
    "type (json_to_dict)"
   ]
  },
  {
   "cell_type": "code",
   "execution_count": 75,
   "id": "5bd56044",
   "metadata": {},
   "outputs": [
    {
     "name": "stdout",
     "output_type": "stream",
     "text": [
      "{'year': 2023, 'month': 9, 'day': 14, 'hour': 11, 'minute': 40, 'seconds': 44, 'milliSeconds': 351, 'dateTime': '2023-09-14T11:40:44.3516322', 'date': '09/14/2023', 'time': '11:40', 'timeZone': 'Asia/Seoul', 'dayOfWeek': 'Thursday', 'dstActive': False}\n"
     ]
    }
   ],
   "source": [
    "print(json_to_dict)"
   ]
  },
  {
   "cell_type": "code",
   "execution_count": 76,
   "id": "b9f115db",
   "metadata": {},
   "outputs": [
    {
     "name": "stdout",
     "output_type": "stream",
     "text": [
      "year :  2023\n",
      "month :  2023\n",
      "hour :  2023\n"
     ]
    }
   ],
   "source": [
    "print(\"year : \" , json_to_dict['year'])\n",
    "print(\"month : \" , json_to_dict['year'])\n",
    "print(\"hour : \" , json_to_dict['year'])"
   ]
  },
  {
   "cell_type": "code",
   "execution_count": 78,
   "id": "5730c0a2",
   "metadata": {},
   "outputs": [
    {
     "data": {
      "text/plain": [
       "dict"
      ]
     },
     "execution_count": 78,
     "metadata": {},
     "output_type": "execute_result"
    }
   ],
   "source": [
    "import requests\n",
    "import json\n",
    "\n",
    "url = \"https://timeapi.io/api/Time/current/zone?timeZone=Asia/Seoul\"\n",
    "\n",
    "date_time_dict = requests.get(url).json() #\n",
    "type(date_time_dict)"
   ]
  },
  {
   "cell_type": "code",
   "execution_count": 80,
   "id": "702c90c8",
   "metadata": {},
   "outputs": [
    {
     "name": "stdout",
     "output_type": "stream",
     "text": [
      "년도 :  2023\n"
     ]
    }
   ],
   "source": [
    "print('년도 : ', requests.get(url2).json()['year'])\n",
    "#이런식도 가능하다 "
   ]
  },
  {
   "cell_type": "markdown",
   "id": "e9078954",
   "metadata": {},
   "source": [
    "# file 03 "
   ]
  },
  {
   "cell_type": "code",
   "execution_count": 113,
   "id": "fbac8d6d",
   "metadata": {},
   "outputs": [],
   "source": [
    "import requests\n",
    "import json\n",
    "\n",
    "url = 'https://timeapi.io/api/Conversion/ConvertTimeZone' # 요청 주소\n",
    "\n",
    "from_time_zone = \"Asia/Seoul\"\n",
    "from_date_time = \"2022-10-03 10:03:00\"\n",
    "to_time_zone = \"UTC\" # GMT로 지정해도 결과는 동일\n",
    "\n",
    "headers = {\"Content-Type\": \"application/json\"}\n",
    "\n",
    "json_data = json.dumps({\"fromTimeZone\": from_time_zone,\n",
    "                        \"dateTime\": from_date_time,\n",
    "                        \"toTimeZone\": to_time_zone})\n"
   ]
  },
  {
   "cell_type": "code",
   "execution_count": 114,
   "id": "54c3e9af",
   "metadata": {},
   "outputs": [],
   "source": [
    "r = requests.post(url,headers=headers, data= json_data)"
   ]
  },
  {
   "cell_type": "code",
   "execution_count": 115,
   "id": "dab407ea",
   "metadata": {},
   "outputs": [],
   "source": [
    "ctz_j2d = r.json() "
   ]
  },
  {
   "cell_type": "code",
   "execution_count": 116,
   "id": "c4753cb1",
   "metadata": {},
   "outputs": [
    {
     "name": "stdout",
     "output_type": "stream",
     "text": [
      "<class 'dict'>\n"
     ]
    }
   ],
   "source": [
    "print(type(ctz_j2d))"
   ]
  },
  {
   "cell_type": "code",
   "execution_count": 117,
   "id": "557b025a",
   "metadata": {},
   "outputs": [
    {
     "data": {
      "text/plain": [
       "{'type': 'https://tools.ietf.org/html/rfc7231#section-6.5.1',\n",
       " 'title': 'One or more validation errors occurred.',\n",
       " 'status': 400,\n",
       " 'traceId': '00-d53be4eae008fbee1d10052620dfd6c5-49953b3a79e51921-00',\n",
       " 'errors': {'DstAmbiguity': ['The DstAmbiguity field is required.']}}"
      ]
     },
     "execution_count": 117,
     "metadata": {},
     "output_type": "execute_result"
    }
   ],
   "source": [
    "ctz_j2d"
   ]
  },
  {
   "cell_type": "raw",
   "id": "34de3fde",
   "metadata": {},
   "source": [
    "error code : 400 -> Bad Request\n"
   ]
  },
  {
   "cell_type": "code",
   "execution_count": 111,
   "id": "24fac8c6",
   "metadata": {},
   "outputs": [
    {
     "name": "stdout",
     "output_type": "stream",
     "text": [
      "\n"
     ]
    }
   ],
   "source": [
    "# get 방식 \n",
    "\"\"\"\n",
    "\n",
    "import requests\n",
    "import json\n",
    "\n",
    "url = 'https://timeapi.io/api/Conversion/ConvertTimeZone' # 요청 주소\n",
    "\n",
    "from_time_zone = \"Asia/Seoul\"\n",
    "from_date_time = \"2022-10-03 10:03:00\"\n",
    "to_time_zone = \"GMT\" # GMT로 지정해도 결과는 동일\n",
    "\n",
    "headers = {\"Content-Type\": \"text/html\"}\n",
    "\n",
    "dict_data = {\"fromTimeZone\": from_time_zone,\n",
    "            \"dateTime\": from_date_time,\n",
    "            \"toTimeZone\": to_time_zone}\n",
    "\n",
    "r = requests.get(url,headers = headers, params= dict_data)\n",
    "print(r.text)\n",
    "\n",
    "\n",
    "\"\"\"\n"
   ]
  },
  {
   "cell_type": "code",
   "execution_count": 112,
   "id": "3bc253c7",
   "metadata": {},
   "outputs": [
    {
     "name": "stdout",
     "output_type": "stream",
     "text": [
      "<Response [405]>\n"
     ]
    }
   ],
   "source": [
    "print(r)"
   ]
  },
  {
   "cell_type": "code",
   "execution_count": 118,
   "id": "ed6ed3ea",
   "metadata": {},
   "outputs": [],
   "source": [
    "rss_simple_document = \"\"\"<?xml version=\"1.0\" encoding=\"UTF-8\" ?>\n",
    "<rss version=\"2.0\">\n",
    "\n",
    "<channel>\n",
    "  <title>파이썬 웹 스크레이핑 홈페이지</title>\n",
    "  <link>https://www.python_web_scraping.com</link>\n",
    "  <description>파이썬 웹 스크레이핑 설명</description>\n",
    "  <pubDate>Sat, 30 Apr 2022 15:39:19 GMT</pubDate>\n",
    "  <lastBuildDate>Sat, 30 Apr 2022 17:50:21 GMT</lastBuildDate>\n",
    "  <item>\n",
    "    <title>1장. 웹 스크레이핑</title>\n",
    "    <link>https://www.python_web_scraping.com/web_scraping.html</link>\n",
    "    <description>웹 스크레이핑 기본에 관한 교육</description>\n",
    "    <pubDate>Sat, 30 Apr 2022 00:30:00 GMT</pubDate>\n",
    "  </item>\n",
    "  <item>\n",
    "    <title>2장. 웹 API 교육</title>\n",
    "    <link>https://www.python_web_scraping.com/web_api.html</link>\n",
    "    <description>웹 API에 관한 교육</description>\n",
    "    <pubDate>Sat, 30 Apr 2022 09:45:12 GMT</pubDate>\n",
    "  </item>\n",
    "</channel>\n",
    "\n",
    "</rss>\"\"\""
   ]
  },
  {
   "cell_type": "code",
   "execution_count": 119,
   "id": "745ae448",
   "metadata": {},
   "outputs": [],
   "source": [
    "import feedparser \n",
    "\n",
    "d = feedparser.parse(rss_simple_document)\n"
   ]
  },
  {
   "cell_type": "markdown",
   "id": "0f935b5c",
   "metadata": {},
   "source": [
    "8.3.2 구글 뉴스의 검색 기사 가져오기"
   ]
  },
  {
   "cell_type": "code",
   "execution_count": null,
   "id": "67132c9d",
   "metadata": {},
   "outputs": [],
   "source": []
  },
  {
   "cell_type": "code",
   "execution_count": null,
   "id": "c144da47",
   "metadata": {},
   "outputs": [],
   "source": []
  },
  {
   "cell_type": "code",
   "execution_count": null,
   "id": "0930a73e",
   "metadata": {},
   "outputs": [],
   "source": []
  }
 ],
 "metadata": {
  "kernelspec": {
   "display_name": "Python 3 (ipykernel)",
   "language": "python",
   "name": "python3"
  },
  "language_info": {
   "codemirror_mode": {
    "name": "ipython",
    "version": 3
   },
   "file_extension": ".py",
   "mimetype": "text/x-python",
   "name": "python",
   "nbconvert_exporter": "python",
   "pygments_lexer": "ipython3",
   "version": "3.10.12"
  }
 },
 "nbformat": 4,
 "nbformat_minor": 5
}
