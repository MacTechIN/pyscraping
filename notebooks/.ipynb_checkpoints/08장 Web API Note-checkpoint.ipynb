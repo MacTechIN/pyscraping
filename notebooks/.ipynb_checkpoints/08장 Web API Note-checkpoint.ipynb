{
 "cells": [
  {
   "cell_type": "code",
   "execution_count": 33,
   "id": "478ab18a",
   "metadata": {},
   "outputs": [],
   "source": [
    "import json \n",
    "\n",
    "python_dict = {\n",
    "    \"이름\" : \"홍길동\",\n",
    "    \"나이\" : 25, \n",
    "    \"거주지\" : \"서울\",\n",
    "    \"신체정보\" : {\n",
    "        \"키\" : 175,\n",
    "        \"몸무게\" : 71.2\n",
    "    },\n",
    "    \"취미\": [ \"등산\", \"자전거타기\", \"독서\"]\n",
    "}\n",
    "\n"
   ]
  },
  {
   "cell_type": "code",
   "execution_count": 34,
   "id": "c918a129",
   "metadata": {},
   "outputs": [
    {
     "name": "stdout",
     "output_type": "stream",
     "text": [
      "<class 'dict'>\n"
     ]
    }
   ],
   "source": [
    "print(type(python_dict))"
   ]
  },
  {
   "cell_type": "code",
   "execution_count": 35,
   "id": "fbc0b5fb",
   "metadata": {},
   "outputs": [],
   "source": [
    "json_data = json.dumps(python_dict)"
   ]
  },
  {
   "cell_type": "code",
   "execution_count": 36,
   "id": "9be76e46",
   "metadata": {},
   "outputs": [
    {
     "data": {
      "text/plain": [
       "str"
      ]
     },
     "execution_count": 36,
     "metadata": {},
     "output_type": "execute_result"
    }
   ],
   "source": [
    "type(json_data)"
   ]
  },
  {
   "cell_type": "code",
   "execution_count": 37,
   "id": "b0fba849",
   "metadata": {},
   "outputs": [
    {
     "name": "stdout",
     "output_type": "stream",
     "text": [
      "{\"\\uc774\\ub984\": \"\\ud64d\\uae38\\ub3d9\", \"\\ub098\\uc774\": 25, \"\\uac70\\uc8fc\\uc9c0\": \"\\uc11c\\uc6b8\", \"\\uc2e0\\uccb4\\uc815\\ubcf4\": {\"\\ud0a4\": 175, \"\\ubab8\\ubb34\\uac8c\": 71.2}, \"\\ucde8\\ubbf8\": [\"\\ub4f1\\uc0b0\", \"\\uc790\\uc804\\uac70\\ud0c0\\uae30\", \"\\ub3c5\\uc11c\"]}\n"
     ]
    }
   ],
   "source": [
    "print(json_data)"
   ]
  },
  {
   "cell_type": "code",
   "execution_count": 38,
   "id": "eb36ff48",
   "metadata": {},
   "outputs": [],
   "source": [
    "json_data = json.dumps(python_dict, indent= 4, sort_keys= True, ensure_ascii=False)"
   ]
  },
  {
   "cell_type": "code",
   "execution_count": 39,
   "id": "4f56425c",
   "metadata": {},
   "outputs": [
    {
     "ename": "TypeError",
     "evalue": "string indices must be integers",
     "output_type": "error",
     "traceback": [
      "\u001b[0;31m---------------------------------------------------------------------------\u001b[0m",
      "\u001b[0;31mTypeError\u001b[0m                                 Traceback (most recent call last)",
      "Cell \u001b[0;32mIn[39], line 1\u001b[0m\n\u001b[0;32m----> 1\u001b[0m \u001b[43mjson_data\u001b[49m\u001b[43m[\u001b[49m\u001b[38;5;124;43m\"\u001b[39;49m\u001b[38;5;124;43m이름\u001b[39;49m\u001b[38;5;124;43m\"\u001b[39;49m\u001b[43m]\u001b[49m\n",
      "\u001b[0;31mTypeError\u001b[0m: string indices must be integers"
     ]
    }
   ],
   "source": [
    "json_data[\"이름\"]"
   ]
  },
  {
   "cell_type": "code",
   "execution_count": 40,
   "id": "bcf961de",
   "metadata": {},
   "outputs": [
    {
     "name": "stdout",
     "output_type": "stream",
     "text": [
      "{\n",
      "    \"거주지\": \"서울\",\n",
      "    \"나이\": 25,\n",
      "    \"신체정보\": {\n",
      "        \"몸무게\": 71.2,\n",
      "        \"키\": 175\n",
      "    },\n",
      "    \"이름\": \"홍길동\",\n",
      "    \"취미\": [\n",
      "        \"등산\",\n",
      "        \"자전거타기\",\n",
      "        \"독서\"\n",
      "    ]\n",
      "}\n"
     ]
    }
   ],
   "source": [
    "print(json_data)"
   ]
  },
  {
   "cell_type": "code",
   "execution_count": 41,
   "id": "80546284",
   "metadata": {},
   "outputs": [
    {
     "data": {
      "text/plain": [
       "dict"
      ]
     },
     "execution_count": 41,
     "metadata": {},
     "output_type": "execute_result"
    }
   ],
   "source": [
    "type(python_dict)"
   ]
  },
  {
   "cell_type": "code",
   "execution_count": 42,
   "id": "277d67a4",
   "metadata": {},
   "outputs": [
    {
     "name": "stdout",
     "output_type": "stream",
     "text": [
      "{'이름': '홍길동', '나이': 25, '거주지': '서울', '신체정보': {'키': 175, '몸무게': 71.2}, '취미': ['등산', '자전거타기', '독서']}\n"
     ]
    }
   ],
   "source": [
    "print(python_dict)"
   ]
  },
  {
   "cell_type": "code",
   "execution_count": 43,
   "id": "91619517",
   "metadata": {},
   "outputs": [
    {
     "data": {
      "text/plain": [
       "dict"
      ]
     },
     "execution_count": 43,
     "metadata": {},
     "output_type": "execute_result"
    }
   ],
   "source": [
    "dict_data = json.loads(json_data) # JSON 데이터를 파이썬의 딕셔너리 타입으로 변환\n",
    "type(dict_data)"
   ]
  },
  {
   "cell_type": "code",
   "execution_count": 15,
   "id": "3ddbc934",
   "metadata": {},
   "outputs": [
    {
     "data": {
      "text/plain": [
       "'홍길동'"
      ]
     },
     "execution_count": 15,
     "metadata": {},
     "output_type": "execute_result"
    }
   ],
   "source": [
    "dict_data[\"이름\"] # Key 값으로 검색 "
   ]
  },
  {
   "cell_type": "code",
   "execution_count": 23,
   "id": "21437643",
   "metadata": {},
   "outputs": [
    {
     "data": {
      "text/plain": [
       "71.2"
      ]
     },
     "execution_count": 23,
     "metadata": {},
     "output_type": "execute_result"
    }
   ],
   "source": [
    "dict_data['신체정보']['몸무게']  #  Key로 검색 가능 "
   ]
  },
  {
   "cell_type": "code",
   "execution_count": 25,
   "id": "a886371e",
   "metadata": {},
   "outputs": [
    {
     "data": {
      "text/plain": [
       "175"
      ]
     },
     "execution_count": 25,
     "metadata": {},
     "output_type": "execute_result"
    }
   ],
   "source": [
    "dict_data['신체정보']['키']"
   ]
  },
  {
   "cell_type": "code",
   "execution_count": 18,
   "id": "0d98c927",
   "metadata": {},
   "outputs": [
    {
     "data": {
      "text/plain": [
       "['등산', '자전거타기', ' 독서']"
      ]
     },
     "execution_count": 18,
     "metadata": {},
     "output_type": "execute_result"
    }
   ],
   "source": [
    "dict_data['취미']"
   ]
  },
  {
   "cell_type": "code",
   "execution_count": 19,
   "id": "17dafe53",
   "metadata": {},
   "outputs": [
    {
     "data": {
      "text/plain": [
       "'등산'"
      ]
     },
     "execution_count": 19,
     "metadata": {},
     "output_type": "execute_result"
    }
   ],
   "source": [
    "dict_data['취미'][0]"
   ]
  },
  {
   "cell_type": "code",
   "execution_count": 26,
   "id": "bc29fccb",
   "metadata": {},
   "outputs": [
    {
     "data": {
      "text/plain": [
       "['등산', '자전거타기', ' 독서']"
      ]
     },
     "execution_count": 26,
     "metadata": {},
     "output_type": "execute_result"
    }
   ],
   "source": [
    "#'취미'의 값은 리스트 \n",
    "dict_data['취미']  # ['등산', '자전거타기', ' 독서']"
   ]
  },
  {
   "cell_type": "code",
   "execution_count": 27,
   "id": "a7917729",
   "metadata": {},
   "outputs": [
    {
     "data": {
      "text/plain": [
       "' 독서'"
      ]
     },
     "execution_count": 27,
     "metadata": {},
     "output_type": "execute_result"
    }
   ],
   "source": [
    "dict_data['취미'][0]\n",
    "dict_data['취미'][1]\n",
    "dict_data['취미'][2]"
   ]
  },
  {
   "cell_type": "code",
   "execution_count": 32,
   "id": "28fd6a78",
   "metadata": {},
   "outputs": [
    {
     "name": "stdout",
     "output_type": "stream",
     "text": [
      "등산\n",
      "자전거타기\n",
      " 독서\n"
     ]
    }
   ],
   "source": [
    "for item in dict_data['취미']:\n",
    "    print(item)\n"
   ]
  },
  {
   "cell_type": "code",
   "execution_count": 47,
   "id": "33849218",
   "metadata": {},
   "outputs": [],
   "source": [
    "people = {\n",
    "    \"이름\": \"홍길동\",\n",
    "    \"나이\": 30,\n",
    "    \"결혼여부\": False,\n",
    "    \"자녀\": \n",
    "    [    \n",
    "            { \n",
    "                \"이름\": \"홍길순\",\n",
    "                \"나이\": 5 \n",
    "            },\n",
    "        \n",
    "            {\n",
    "                \"이름\": \"홍길철\",\n",
    "                \"나이\": 7\n",
    "            }\n",
    "    ],\n",
    "    취미\": [\"독서\", \"영화\", \"운동\"]\n",
    "}"
   ]
  },
  {
   "cell_type": "code",
   "execution_count": 48,
   "id": "ad8cd871",
   "metadata": {},
   "outputs": [
    {
     "data": {
      "text/plain": [
       "dict"
      ]
     },
     "execution_count": 48,
     "metadata": {},
     "output_type": "execute_result"
    }
   ],
   "source": [
    "type (people)"
   ]
  },
  {
   "cell_type": "code",
   "execution_count": null,
   "id": "1310ab36",
   "metadata": {},
   "outputs": [],
   "source": []
  },
  {
   "cell_type": "code",
   "execution_count": null,
   "id": "aea6be97",
   "metadata": {},
   "outputs": [],
   "source": []
  },
  {
   "cell_type": "code",
   "execution_count": 44,
   "id": "6fa332f7",
   "metadata": {},
   "outputs": [],
   "source": [
    "# ## 8.2 API 키 없이 시간 관련 데이터 가져오기 \n",
    "\n",
    "# ### 8.2.1 시간대 리스트와 현재 시각 데이터 가져오기\n",
    "\n",
    "# [8장: 345페이지]\n"
   ]
  },
  {
   "cell_type": "code",
   "execution_count": 45,
   "id": "05b1eede",
   "metadata": {},
   "outputs": [],
   "source": [
    "import requests\n",
    "import json`"
   ]
  },
  {
   "cell_type": "code",
   "execution_count": 52,
   "id": "b1fa8d39",
   "metadata": {},
   "outputs": [
    {
     "name": "stdout",
     "output_type": "stream",
     "text": [
      "[\"Africa/Abidjan\",\"Africa/Accra\",\"Africa/Addis_Ababa\",\"Africa/Algiers\"\n",
      "<class 'str'>\n"
     ]
    }
   ],
   "source": [
    "url = \"https://timeapi.io/api/TimeZone/AvailableTimeZones\"\n",
    "\n",
    "r = requests.get(url)\n",
    "rt = r.text \n",
    "print(rt[:70])\n",
    "print(type(rt))"
   ]
  },
  {
   "cell_type": "code",
   "execution_count": 65,
   "id": "72b434d8",
   "metadata": {},
   "outputs": [
    {
     "name": "stdout",
     "output_type": "stream",
     "text": [
      "r2 :  <class 'requests.models.Response'>\n",
      "rt :  <class 'str'>\n",
      "{\"year\":2023,\"month\":9,\"day\":14,\"hour\":11,\"minute\":11,\"seconds\":3,\"milliSeconds\":933,\"dateTime\":\"2023-09-14T11:11:03.9338093\",\"date\":\"09/14/2023\",\"time\":\"11:11\",\"timeZone\":\"Asia/Seoul\",\"dayOfWeek\":\"Thursday\",\"dstActive\":false}\n"
     ]
    }
   ],
   "source": [
    "url2 = \"https://timeapi.io/api/Time/current/zone?timeZone=Asia/Seoul\"\n",
    "\n",
    "r2 = requests.get(url2)\n",
    "print(\"r2 : \", type(r2))\n",
    "rt = r2.text \n",
    "print(\"rt : \", type (rt))\n",
    "print(rt)"
   ]
  },
  {
   "cell_type": "code",
   "execution_count": 59,
   "id": "7f1c296d",
   "metadata": {},
   "outputs": [
    {
     "name": "stdout",
     "output_type": "stream",
     "text": [
      "{\"year\":2023,\"month\":9,\"day\":14,\"hour\":10,\"minute\":56,\"seconds\":56,\"milliSeconds\":276,\"dateTime\":\"2023-09-14T10:56:56.2761183\",\"date\":\"09/14/2023\",\"time\":\"10:56\",\"timeZone\":\"Asia/Seoul\",\"dayOfWeek\":\"Thursday\",\"dstActive\":false}\n"
     ]
    }
   ],
   "source": [
    "url = \"https://timeapi.io/api/Time/current/zone\"\n",
    "#요청 매개변수 생성 : dict \n",
    "parameters = {\"timeZone\" : \"Asia/Seoul\"}\n",
    "\n",
    "r = requests.get(seoul, params= parameters)\n",
    "print(r.text)"
   ]
  },
  {
   "cell_type": "code",
   "execution_count": 60,
   "id": "2ab74e90",
   "metadata": {},
   "outputs": [
    {
     "data": {
      "text/plain": [
       "str"
      ]
     },
     "execution_count": 60,
     "metadata": {},
     "output_type": "execute_result"
    }
   ],
   "source": [
    "type(r.text) # return value : str , format "
   ]
  },
  {
   "cell_type": "code",
   "execution_count": 66,
   "id": "5a6a6a85",
   "metadata": {},
   "outputs": [],
   "source": [
    "url = \"https://timeapi.io/api/Time/current/zone\" # 요청 주소\n",
    "\n",
    "city = \"Asia/Seoul\"\n",
    "\n",
    "parameters = {\"timeZone\": city }           # 요청 매개 변수 생성\n",
    "\n",
    "r = requests.get(url, params=parameters)"
   ]
  },
  {
   "cell_type": "code",
   "execution_count": null,
   "id": "7bbb89c5",
   "metadata": {},
   "outputs": [],
   "source": []
  },
  {
   "cell_type": "code",
   "execution_count": null,
   "id": "8678d666",
   "metadata": {},
   "outputs": [],
   "source": []
  },
  {
   "cell_type": "code",
   "execution_count": null,
   "id": "d0d03b46",
   "metadata": {},
   "outputs": [],
   "source": []
  },
  {
   "cell_type": "code",
   "execution_count": null,
   "id": "87a0c378",
   "metadata": {},
   "outputs": [],
   "source": []
  },
  {
   "cell_type": "code",
   "execution_count": null,
   "id": "04167b2f",
   "metadata": {},
   "outputs": [],
   "source": []
  },
  {
   "cell_type": "code",
   "execution_count": null,
   "id": "ee5467fc",
   "metadata": {},
   "outputs": [],
   "source": []
  },
  {
   "cell_type": "code",
   "execution_count": null,
   "id": "d547b5e8",
   "metadata": {},
   "outputs": [],
   "source": []
  },
  {
   "cell_type": "code",
   "execution_count": null,
   "id": "f776ff72",
   "metadata": {},
   "outputs": [],
   "source": []
  },
  {
   "cell_type": "code",
   "execution_count": null,
   "id": "918db593",
   "metadata": {},
   "outputs": [],
   "source": []
  },
  {
   "cell_type": "code",
   "execution_count": null,
   "id": "de3a82e0",
   "metadata": {},
   "outputs": [],
   "source": []
  },
  {
   "cell_type": "code",
   "execution_count": null,
   "id": "9726338d",
   "metadata": {},
   "outputs": [],
   "source": []
  }
 ],
 "metadata": {
  "kernelspec": {
   "display_name": "Python 3 (ipykernel)",
   "language": "python",
   "name": "python3"
  },
  "language_info": {
   "codemirror_mode": {
    "name": "ipython",
    "version": 3
   },
   "file_extension": ".py",
   "mimetype": "text/x-python",
   "name": "python",
   "nbconvert_exporter": "python",
   "pygments_lexer": "ipython3",
   "version": "3.10.12"
  }
 },
 "nbformat": 4,
 "nbformat_minor": 5
}
