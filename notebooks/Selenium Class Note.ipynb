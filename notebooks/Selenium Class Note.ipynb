{
 "cells": [
  {
   "cell_type": "code",
   "execution_count": 3,
   "id": "5fbbb0f2",
   "metadata": {},
   "outputs": [
    {
     "ename": "ImportError",
     "evalue": "cannot import name 'Chrome' from 'selenium' (/Users/sam/anaconda3/envs/WebScraping/lib/python3.10/site-packages/selenium/__init__.py)",
     "output_type": "error",
     "traceback": [
      "\u001b[0;31m---------------------------------------------------------------------------\u001b[0m",
      "\u001b[0;31mImportError\u001b[0m                               Traceback (most recent call last)",
      "Cell \u001b[0;32mIn[3], line 1\u001b[0m\n\u001b[0;32m----> 1\u001b[0m \u001b[38;5;28;01mfrom\u001b[39;00m \u001b[38;5;21;01mselenium\u001b[39;00m \u001b[38;5;28;01mimport\u001b[39;00m Chrome\n\u001b[1;32m      3\u001b[0m driver \u001b[38;5;241m=\u001b[39m Chrome()\n\u001b[1;32m      5\u001b[0m driver\u001b[38;5;241m.\u001b[39mset_window_size(\u001b[38;5;241m800\u001b[39m,\u001b[38;5;241m1000\u001b[39m)\n",
      "\u001b[0;31mImportError\u001b[0m: cannot import name 'Chrome' from 'selenium' (/Users/sam/anaconda3/envs/WebScraping/lib/python3.10/site-packages/selenium/__init__.py)"
     ]
    }
   ],
   "source": [
    "from selenium import ch\n",
    "\n",
    "driver = Chrome()\n",
    "\n",
    "driver.set_window_size(800,1000)\n",
    "\n",
    "driver.get(\"https://www.google.com\")\n",
    "\n",
    "print(driver.title)\n",
    "print(driver.current_url)"
   ]
  },
  {
   "cell_type": "code",
   "execution_count": null,
   "id": "9a72689c",
   "metadata": {},
   "outputs": [],
   "source": []
  }
 ],
 "metadata": {
  "kernelspec": {
   "display_name": "Python 3 (ipykernel)",
   "language": "python",
   "name": "python3"
  },
  "language_info": {
   "codemirror_mode": {
    "name": "ipython",
    "version": 3
   },
   "file_extension": ".py",
   "mimetype": "text/x-python",
   "name": "python",
   "nbconvert_exporter": "python",
   "pygments_lexer": "ipython3",
   "version": "3.10.12"
  }
 },
 "nbformat": 4,
 "nbformat_minor": 5
}
