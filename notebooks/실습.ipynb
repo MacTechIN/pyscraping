{
 "cells": [
  {
   "cell_type": "markdown",
   "id": "a43a0cc9",
   "metadata": {},
   "source": [
    "## Webpage Source 가져오기 "
   ]
  },
  {
   "cell_type": "code",
   "execution_count": 1,
   "id": "ec3449aa",
   "metadata": {},
   "outputs": [],
   "source": [
    "#reqquest 사용 홈패이지 리턴값가지고 오기 \n",
    "\n",
    "import requests\n",
    "\n",
    "r = requests.get('https://www.google.co.kr')"
   ]
  },
  {
   "cell_type": "code",
   "execution_count": 10,
   "id": "f83d080b",
   "metadata": {},
   "outputs": [
    {
     "name": "stdout",
     "output_type": "stream",
     "text": [
      "200\n",
      "<class 'requests.models.Response'>\n"
     ]
    }
   ],
   "source": [
    "print(r.status_code) # 200 is sucdess\n",
    "print(type(r))"
   ]
  },
  {
   "cell_type": "code",
   "execution_count": 6,
   "id": "05254cdc",
   "metadata": {},
   "outputs": [
    {
     "data": {
      "text/plain": [
       "'<!doctype html><html itemscope=\"\" itemtype=\"http://schema.org/WebPage\" lang=\"ko\"><head><meta content'"
      ]
     },
     "execution_count": 6,
     "metadata": {},
     "output_type": "execute_result"
    }
   ],
   "source": [
    "r.text[0:100] #소스의 첫 번째 100자리 가지고옴 "
   ]
  },
  {
   "cell_type": "code",
   "execution_count": 21,
   "id": "c2e6e837",
   "metadata": {},
   "outputs": [],
   "source": [
    "html = requests.get('https://www.google.co.kr').text"
   ]
  },
  {
   "cell_type": "code",
   "execution_count": 12,
   "id": "e8d7ced7",
   "metadata": {},
   "outputs": [
    {
     "name": "stdout",
     "output_type": "stream",
     "text": [
      "<class 'str'>\n"
     ]
    }
   ],
   "source": [
    "html[0:100]\n",
    "print(type(html)) # .text String type 을 받아온다. "
   ]
  },
  {
   "cell_type": "code",
   "execution_count": 14,
   "id": "b9f802f8",
   "metadata": {},
   "outputs": [],
   "source": [
    "from bs4 import BeautifulSoup"
   ]
  },
  {
   "cell_type": "code",
   "execution_count": 26,
   "id": "917a1c59",
   "metadata": {},
   "outputs": [],
   "source": [
    "# 테스트용 html 소스\n",
    "html = \"\"\"<html><body><div><span>\\\n",
    "        <a href=http://www.naver.com>naver</a>\\\n",
    "        <a href=https://www.google.com>google</a>\\\n",
    "        <a href=http://www.daum.net/>daum</a>\\\n",
    "        </span></div></body></html>\"\"\" "
   ]
  },
  {
   "cell_type": "code",
   "execution_count": 27,
   "id": "937b40a2",
   "metadata": {},
   "outputs": [],
   "source": [
    "soup = BeautifulSoup(html, 'lxml')"
   ]
  },
  {
   "cell_type": "code",
   "execution_count": 28,
   "id": "c9e4e6ea",
   "metadata": {},
   "outputs": [
    {
     "data": {
      "text/plain": [
       "<html><body><div><span> <a href=\"http://www.naver.com\">naver</a> <a href=\"https://www.google.com\">google</a> <a href=\"http://www.daum.net/\">daum</a> </span></div></body></html>"
      ]
     },
     "execution_count": 28,
     "metadata": {},
     "output_type": "execute_result"
    }
   ],
   "source": [
    "soup"
   ]
  },
  {
   "cell_type": "code",
   "execution_count": 29,
   "id": "6b9a90f7",
   "metadata": {},
   "outputs": [
    {
     "name": "stdout",
     "output_type": "stream",
     "text": [
      "<html>\n",
      " <body>\n",
      "  <div>\n",
      "   <span>\n",
      "    <a href=\"http://www.naver.com\">\n",
      "     naver\n",
      "    </a>\n",
      "    <a href=\"https://www.google.com\">\n",
      "     google\n",
      "    </a>\n",
      "    <a href=\"http://www.daum.net/\">\n",
      "     daum\n",
      "    </a>\n",
      "   </span>\n",
      "  </div>\n",
      " </body>\n",
      "</html>\n",
      "\n"
     ]
    }
   ],
   "source": [
    "print(soup.prettify())"
   ]
  },
  {
   "cell_type": "code",
   "execution_count": 34,
   "id": "9778637a",
   "metadata": {},
   "outputs": [
    {
     "name": "stdout",
     "output_type": "stream",
     "text": [
      "findFirstTagA :  <a href=\"http://www.naver.com\">naver</a>\n",
      "<class 'bs4.element.Tag'>\n"
     ]
    }
   ],
   "source": [
    "findFirstTagA= soup.find('a') # 첫번째 만나는 a tab (Element) 를 반환한다. \n",
    "print(\"findFirstTagA : \", findFirstTagA )\n",
    "print(type(findFirstTagA))"
   ]
  },
  {
   "cell_type": "code",
   "execution_count": 37,
   "id": "585e864b",
   "metadata": {},
   "outputs": [
    {
     "name": "stdout",
     "output_type": "stream",
     "text": [
      "naver\n",
      "<class 'str'>\n"
     ]
    }
   ],
   "source": [
    "print(findFirstTagA.get_text()) # Tag elements 에서 get_text() 를 하면 String 리턴한다.\n",
    "print(type(findFirstTagA.get_text()))"
   ]
  },
  {
   "cell_type": "code",
   "execution_count": 60,
   "id": "a3ddfb1c",
   "metadata": {},
   "outputs": [
    {
     "name": "stdout",
     "output_type": "stream",
     "text": [
      "<a href=\"http://www.naver.com\">naver</a>\n",
      "naver\n"
     ]
    }
   ],
   "source": [
    "ret_value= soup.find('a')\n",
    "\n",
    "print(ret_value)\n",
    "print(ret_value.text)"
   ]
  },
  {
   "cell_type": "code",
   "execution_count": 65,
   "id": "5c5caf40",
   "metadata": {},
   "outputs": [
    {
     "name": "stdout",
     "output_type": "stream",
     "text": [
      "http://www.naver.com\n"
     ]
    },
    {
     "data": {
      "text/plain": [
       "bs4.element.Tag"
      ]
     },
     "execution_count": 65,
     "metadata": {},
     "output_type": "execute_result"
    }
   ],
   "source": [
    "print(ret_value['href'])\n",
    "type(ret_value)"
   ]
  },
  {
   "cell_type": "code",
   "execution_count": null,
   "id": "e60a3372",
   "metadata": {},
   "outputs": [],
   "source": []
  },
  {
   "cell_type": "code",
   "execution_count": null,
   "id": "c0bc003e",
   "metadata": {},
   "outputs": [],
   "source": []
  }
 ],
 "metadata": {
  "kernelspec": {
   "display_name": "Python 3 (ipykernel)",
   "language": "python",
   "name": "python3"
  },
  "language_info": {
   "codemirror_mode": {
    "name": "ipython",
    "version": 3
   },
   "file_extension": ".py",
   "mimetype": "text/x-python",
   "name": "python",
   "nbconvert_exporter": "python",
   "pygments_lexer": "ipython3",
   "version": "3.10.12"
  }
 },
 "nbformat": 4,
 "nbformat_minor": 5
}
